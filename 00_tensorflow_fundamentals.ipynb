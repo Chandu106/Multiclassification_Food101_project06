{
  "cells": [
    {
      "cell_type": "markdown",
      "metadata": {
        "id": "view-in-github",
        "colab_type": "text"
      },
      "source": [
        "<a href=\"https://colab.research.google.com/github/Chandu106/Multiclassification_Food101_project06/blob/main/00_tensorflow_fundamentals.ipynb\" target=\"_parent\"><img src=\"https://colab.research.google.com/assets/colab-badge.svg\" alt=\"Open In Colab\"/></a>"
      ]
    },
    {
      "cell_type": "markdown",
      "metadata": {
        "id": "0v7KXZYf1Pdd"
      },
      "source": [
        "*Introduction to Tensors\n",
        " \n"
      ]
    },
    {
      "cell_type": "code",
      "source": [],
      "metadata": {
        "id": "_EmbIUI-JJ0N"
      },
      "execution_count": null,
      "outputs": []
    },
    {
      "cell_type": "markdown",
      "source": [],
      "metadata": {
        "id": "7ckZoM166w3_"
      }
    },
    {
      "cell_type": "code",
      "execution_count": null,
      "metadata": {
        "colab": {
          "base_uri": "https://localhost:8080/"
        },
        "id": "gzOWsedJ4qRk",
        "outputId": "349c62e9-fbbb-4e1d-f805-fff938cc7a2f"
      },
      "outputs": [
        {
          "output_type": "stream",
          "name": "stdout",
          "text": [
            "2.8.2\n"
          ]
        }
      ],
      "source": [
        "# import tensorflow\n",
        "\n",
        "import tensorflow as tf\n",
        "print(tf.__version__)"
      ]
    },
    {
      "cell_type": "code",
      "execution_count": null,
      "metadata": {
        "colab": {
          "base_uri": "https://localhost:8080/"
        },
        "id": "jaw9jX3G42H_",
        "outputId": "fd41e296-adfd-4b8c-a63a-437bd9e0279f"
      },
      "outputs": [
        {
          "output_type": "execute_result",
          "data": {
            "text/plain": [
              "<tf.Tensor: shape=(), dtype=int32, numpy=7>"
            ]
          },
          "metadata": {},
          "execution_count": 2
        }
      ],
      "source": [
        "# create tensors with tf.constants()\n",
        "\n",
        "scalar = tf.constant(7)\n",
        "scalar    "
      ]
    },
    {
      "cell_type": "code",
      "execution_count": null,
      "metadata": {
        "colab": {
          "base_uri": "https://localhost:8080/"
        },
        "id": "remwi46o51aT",
        "outputId": "941dc5a9-334d-4e36-ff1d-417579bdf5eb"
      },
      "outputs": [
        {
          "output_type": "execute_result",
          "data": {
            "text/plain": [
              "0"
            ]
          },
          "metadata": {},
          "execution_count": 3
        }
      ],
      "source": [
        "# check the number of dimensions of a tensor(ndim stands of dimensions)\n",
        "scalar.ndim"
      ]
    },
    {
      "cell_type": "code",
      "execution_count": null,
      "metadata": {
        "colab": {
          "base_uri": "https://localhost:8080/"
        },
        "id": "su9ehYxy7URn",
        "outputId": "1f994b1c-50e2-4c5e-cb16-72286eac65c5"
      },
      "outputs": [
        {
          "output_type": "execute_result",
          "data": {
            "text/plain": [
              "<tf.Tensor: shape=(2,), dtype=int32, numpy=array([10, 10], dtype=int32)>"
            ]
          },
          "metadata": {},
          "execution_count": 4
        }
      ],
      "source": [
        "# create a vector\n",
        "vector = tf.constant([10 , 10])\n",
        "vector"
      ]
    },
    {
      "cell_type": "code",
      "execution_count": null,
      "metadata": {
        "colab": {
          "base_uri": "https://localhost:8080/"
        },
        "id": "o3wSIeu87h2s",
        "outputId": "1c33c0ee-e999-466d-c5d9-89b37c4c5e2f"
      },
      "outputs": [
        {
          "output_type": "execute_result",
          "data": {
            "text/plain": [
              "1"
            ]
          },
          "metadata": {},
          "execution_count": 5
        }
      ],
      "source": [
        "# check the dimension of the vector\n",
        "vector.ndim"
      ]
    },
    {
      "cell_type": "code",
      "execution_count": null,
      "metadata": {
        "colab": {
          "base_uri": "https://localhost:8080/"
        },
        "id": "yOKVuart738V",
        "outputId": "3a4a098d-495a-44ce-e376-84c202f194af"
      },
      "outputs": [
        {
          "output_type": "execute_result",
          "data": {
            "text/plain": [
              "<tf.Tensor: shape=(2, 2), dtype=int32, numpy=\n",
              "array([[10,  7],\n",
              "       [ 7, 10]], dtype=int32)>"
            ]
          },
          "metadata": {},
          "execution_count": 6
        }
      ],
      "source": [
        "# create a matrix(has more than one dimension)\n",
        "matrix = tf.constant([[10 , 7] , [7 , 10]])\n",
        "matrix\n"
      ]
    },
    {
      "cell_type": "code",
      "execution_count": null,
      "metadata": {
        "colab": {
          "base_uri": "https://localhost:8080/"
        },
        "id": "l_yya9gE8avm",
        "outputId": "1ad09e6c-10e5-40fc-eeba-7e35ba14d7bc"
      },
      "outputs": [
        {
          "output_type": "execute_result",
          "data": {
            "text/plain": [
              "2"
            ]
          },
          "metadata": {},
          "execution_count": 7
        }
      ],
      "source": [
        "matrix.ndim"
      ]
    },
    {
      "cell_type": "code",
      "execution_count": null,
      "metadata": {
        "colab": {
          "base_uri": "https://localhost:8080/"
        },
        "id": "B6Lj7vvA8kpL",
        "outputId": "badb3227-01a3-4e21-fec8-fe7022efd1d2"
      },
      "outputs": [
        {
          "output_type": "execute_result",
          "data": {
            "text/plain": [
              "<tf.Tensor: shape=(3, 2), dtype=float16, numpy=\n",
              "array([[10.,  7.],\n",
              "       [ 3.,  2.],\n",
              "       [ 8.,  9.]], dtype=float16)>"
            ]
          },
          "metadata": {},
          "execution_count": 8
        }
      ],
      "source": [
        "# create another matrix\n",
        "another_matrix = tf.constant([[10. , 7.] , [3. , 2.] , [8. , 9.]], dtype=tf.float16) #specify the data type with dtype parameter\n",
        "another_matrix"
      ]
    },
    {
      "cell_type": "code",
      "execution_count": null,
      "metadata": {
        "colab": {
          "base_uri": "https://localhost:8080/"
        },
        "id": "0JZO-hmG9wns",
        "outputId": "089a4865-e00f-4974-dea5-48cb302fd055"
      },
      "outputs": [
        {
          "output_type": "execute_result",
          "data": {
            "text/plain": [
              "2"
            ]
          },
          "metadata": {},
          "execution_count": 9
        }
      ],
      "source": [
        "# dimension of the another matrix\n",
        "another_matrix.ndim"
      ]
    },
    {
      "cell_type": "code",
      "execution_count": null,
      "metadata": {
        "colab": {
          "base_uri": "https://localhost:8080/"
        },
        "id": "ytRl41fV_cJe",
        "outputId": "8b57cedf-6461-4f4d-8c98-8fb6401ea19e"
      },
      "outputs": [
        {
          "output_type": "execute_result",
          "data": {
            "text/plain": [
              "<tf.Tensor: shape=(1, 6, 3), dtype=int32, numpy=\n",
              "array([[[ 1,  2,  3],\n",
              "        [ 4,  5,  6],\n",
              "        [ 7,  8,  9],\n",
              "        [10, 11, 12],\n",
              "        [13, 14, 15],\n",
              "        [16, 17, 18]]], dtype=int32)>"
            ]
          },
          "metadata": {},
          "execution_count": 10
        }
      ],
      "source": [
        "from tensorflow.python.ops.gen_data_flow_ops import tensor_array\n",
        "# lets create a tensor\n",
        "tensor = tf.constant([[[1, 2 , 3],\n",
        "                       [4 , 5 , 6],\n",
        "                       [7 , 8 , 9],\n",
        "                       [10 , 11 , 12],\n",
        "                       [13, 14 , 15],\n",
        "                       [16 , 17 , 18]]])\n",
        "tensor "
      ]
    },
    {
      "cell_type": "code",
      "execution_count": null,
      "metadata": {
        "colab": {
          "base_uri": "https://localhost:8080/"
        },
        "id": "pEbaAy7zABoc",
        "outputId": "23f0daee-f2b1-492d-c7e0-04881d7e29ea"
      },
      "outputs": [
        {
          "output_type": "execute_result",
          "data": {
            "text/plain": [
              "3"
            ]
          },
          "metadata": {},
          "execution_count": 11
        }
      ],
      "source": [
        "# dimension of the tensor\n",
        "tensor.ndim"
      ]
    },
    {
      "cell_type": "code",
      "execution_count": null,
      "metadata": {
        "colab": {
          "base_uri": "https://localhost:8080/"
        },
        "id": "-hCOVbxzAi8M",
        "outputId": "0a8eda3a-9545-4e44-cbc7-c9770a507ea2"
      },
      "outputs": [
        {
          "output_type": "execute_result",
          "data": {
            "text/plain": [
              "(<tf.Variable 'Variable:0' shape=(2,) dtype=int32, numpy=array([10,  7], dtype=int32)>,\n",
              " <tf.Variable 'Variable:0' shape=(2,) dtype=int32, numpy=array([10,  7], dtype=int32)>)"
            ]
          },
          "metadata": {},
          "execution_count": 12
        }
      ],
      "source": [
        "# create the same tensor with tf.variable()\n",
        "\n",
        "changeable_tensor = tf.Variable([10 , 7])\n",
        "unchangeable_tensor = tf.Variable([10 , 7])\n",
        "changeable_tensor , unchangeable_tensor"
      ]
    },
    {
      "cell_type": "code",
      "execution_count": null,
      "metadata": {
        "colab": {
          "base_uri": "https://localhost:8080/",
          "height": 217
        },
        "id": "RE7vHM8dDIY4",
        "outputId": "77db01a7-f0d5-430a-9f46-f195e348831e"
      },
      "outputs": [
        {
          "output_type": "error",
          "ename": "TypeError",
          "evalue": "ignored",
          "traceback": [
            "\u001b[0;31m---------------------------------------------------------------------------\u001b[0m",
            "\u001b[0;31mTypeError\u001b[0m                                 Traceback (most recent call last)",
            "\u001b[0;32m<ipython-input-13-784c940b4605>\u001b[0m in \u001b[0;36m<module>\u001b[0;34m\u001b[0m\n\u001b[1;32m      1\u001b[0m \u001b[0;31m# change one element in changeable tensor\u001b[0m\u001b[0;34m\u001b[0m\u001b[0;34m\u001b[0m\u001b[0;34m\u001b[0m\u001b[0m\n\u001b[1;32m      2\u001b[0m \u001b[0;34m\u001b[0m\u001b[0m\n\u001b[0;32m----> 3\u001b[0;31m \u001b[0mchangeable_tensor\u001b[0m\u001b[0;34m[\u001b[0m\u001b[0;36m0\u001b[0m\u001b[0;34m]\u001b[0m \u001b[0;34m=\u001b[0m \u001b[0;36m7\u001b[0m\u001b[0;34m\u001b[0m\u001b[0;34m\u001b[0m\u001b[0m\n\u001b[0m\u001b[1;32m      4\u001b[0m \u001b[0mchangeable_tensor\u001b[0m\u001b[0;34m\u001b[0m\u001b[0;34m\u001b[0m\u001b[0m\n",
            "\u001b[0;31mTypeError\u001b[0m: 'ResourceVariable' object does not support item assignment"
          ]
        }
      ],
      "source": [
        "# change one element in changeable tensor\n",
        "\n",
        "changeable_tensor[0] = 7\n",
        "changeable_tensor"
      ]
    },
    {
      "cell_type": "code",
      "execution_count": null,
      "metadata": {
        "id": "SUwpAU2fDfcs"
      },
      "outputs": [],
      "source": [
        "# try using assign() in changeable tensor\n",
        "\n",
        "changeable_tensor[0].assign(7)\n",
        "changeable_tensor"
      ]
    },
    {
      "cell_type": "code",
      "execution_count": null,
      "metadata": {
        "id": "cFBtlbJBDtSb"
      },
      "outputs": [],
      "source": [
        "# try using assign() in unchangeable tensor\n",
        "\n",
        "unchangeable_tensor[0].assign(7)\n",
        "unchangeable_tensor"
      ]
    },
    {
      "cell_type": "markdown",
      "metadata": {
        "id": "e_kuqkDIEftL"
      },
      "source": [
        " # creating random tensors\n",
        "\n",
        " "
      ]
    },
    {
      "cell_type": "code",
      "execution_count": null,
      "metadata": {
        "id": "LXYHAvZ7E8ll"
      },
      "outputs": [],
      "source": [
        "# create two random (but the same) tensors\n",
        "\n",
        "random_1 = tf.random.Generator.from_seed(42) #set seed for reproducibility\n",
        "random_1 = random_1.normal(shape=(3 , 2))\n",
        "random_2 = tf.random.Generator.from_seed(142) #set seed for reproducibility\n",
        "random_2 = random_2.normal(shape=(3 , 2))\n",
        "random_1 , random_2 , random_1 == random_2"
      ]
    },
    {
      "cell_type": "code",
      "execution_count": null,
      "metadata": {
        "id": "OCbt8v7tHEKR"
      },
      "outputs": [],
      "source": [
        "#shuffle the order of elements in a tensor\n",
        "\n",
        "not_shuffled = tf.constant([[10 , 7],\n",
        "                            [3 , 4],\n",
        "                            [2 , 5]])\n",
        "\n",
        "# shuffle our non-shuffled tensor\n",
        "tf.random.shuffle(not_shuffled)"
      ]
    },
    {
      "cell_type": "code",
      "execution_count": null,
      "metadata": {
        "id": "OhfPrJqpRPH8"
      },
      "outputs": [],
      "source": [
        "not_shuffled"
      ]
    },
    {
      "cell_type": "markdown",
      "metadata": {
        "id": "G3hfRiD3TUHR"
      },
      "source": []
    },
    {
      "cell_type": "markdown",
      "metadata": {
        "id": "njxKPjvdtKUp"
      },
      "source": [
        "#converting numpy array to tensors"
      ]
    },
    {
      "cell_type": "markdown",
      "metadata": {
        "id": "vyWexFoitR-V"
      },
      "source": []
    },
    {
      "cell_type": "code",
      "execution_count": null,
      "metadata": {
        "id": "9tcRdWVvt1vd"
      },
      "outputs": [],
      "source": [
        "import tensorflow as tf\n",
        "tf.ones([10 , 7])"
      ]
    },
    {
      "cell_type": "code",
      "execution_count": null,
      "metadata": {
        "id": "FGsS7Rv6t_AP"
      },
      "outputs": [],
      "source": [
        "tf.zeros([12 , 9])"
      ]
    },
    {
      "cell_type": "code",
      "execution_count": null,
      "metadata": {
        "id": "kA-0nzlluFq1"
      },
      "outputs": [],
      "source": [
        "import numpy as np\n",
        "numpy_A = np.arrange(1 , 25 , dtype=np.int32)\n",
        "numpy_A"
      ]
    },
    {
      "cell_type": "code",
      "source": [
        "# crearing a 2 dimensional tensor (rank of the tensor is 2)"
      ],
      "metadata": {
        "id": "q9LX__Ck60Ba"
      },
      "execution_count": null,
      "outputs": []
    },
    {
      "cell_type": "code",
      "source": [
        "rank_2_tensor = tf.zeros(shape = (2 , 3))\n",
        "rank_2_tensor"
      ],
      "metadata": {
        "id": "1S3zVEG-66QM"
      },
      "execution_count": null,
      "outputs": []
    },
    {
      "cell_type": "code",
      "source": [
        "rank_2_tensor = tf.constant([[10 , 7], [7 , 10]])\n",
        "rank_2_tensor\n",
        "rank_2_tensor.ndim\n",
        "rank_2_tensor.shape\n",
        "rank_2_tensor.dtype\n"
      ],
      "metadata": {
        "id": "Ff3uP0RZ7RUX"
      },
      "execution_count": null,
      "outputs": []
    },
    {
      "cell_type": "markdown",
      "source": [
        "#getting last item of each of row\n"
      ],
      "metadata": {
        "id": "XMuhnZkb8Vn8"
      }
    },
    {
      "cell_type": "code",
      "source": [],
      "metadata": {
        "id": "n2O5VD7XPBOP"
      },
      "execution_count": null,
      "outputs": []
    },
    {
      "cell_type": "code",
      "source": [],
      "metadata": {
        "id": "GqBK52isjgoz"
      },
      "execution_count": null,
      "outputs": []
    },
    {
      "cell_type": "code",
      "source": [
        "rank_2_tensor = tf.constant([[10 , 7], [7 , 10]])\n",
        "rank_2_tensor[:,1]"
      ],
      "metadata": {
        "id": "fMlpDbwV8bm0"
      },
      "execution_count": null,
      "outputs": []
    },
    {
      "cell_type": "code",
      "source": [
        "#matrix multiplication "
      ],
      "metadata": {
        "id": "uwQpW6sjJLI1"
      },
      "execution_count": null,
      "outputs": []
    },
    {
      "cell_type": "code",
      "source": [
        "import tensorflow as tf\n",
        "x = tf.constant([[2,3],\n",
        "                 [3,4]])\n",
        "y = tf.constant([[1,2],\n",
        "                 [5,6]])\n",
        "x.shape , y.shape"
      ],
      "metadata": {
        "id": "GEEbr7AMQY0w"
      },
      "execution_count": null,
      "outputs": []
    },
    {
      "cell_type": "code",
      "source": [
        "tf.matmul(x,y)"
      ],
      "metadata": {
        "id": "K97BDT3iQ_D-"
      },
      "execution_count": null,
      "outputs": []
    },
    {
      "cell_type": "code",
      "source": [
        "x = tf.constant(shape = (2,3))\n",
        "y = tf.constant(shape = (2,3))\n",
        "x ,y"
      ],
      "metadata": {
        "id": "K9T7uE3yRKHW"
      },
      "execution_count": null,
      "outputs": []
    },
    {
      "cell_type": "code",
      "source": [
        "#creating a x tensor with shape (2,3) and y tensor (2,3)"
      ],
      "metadata": {
        "id": "jeuZZEsfR-Vz"
      },
      "execution_count": null,
      "outputs": []
    },
    {
      "cell_type": "code",
      "source": [
        "x = tf.constant([[1,2,3],\n",
        "                 [4,5,6]])\n",
        "y = tf.constant([[3,2,1],\n",
        "                 [9,8,7]])\n",
        "tf.matmul(x,y)"
      ],
      "metadata": {
        "id": "SD59tlw7SIBy"
      },
      "execution_count": null,
      "outputs": []
    },
    {
      "cell_type": "code",
      "source": [
        "tf.reshape(y , shape = (2,3))\n"
      ],
      "metadata": {
        "id": "m5yft2wGSpzF"
      },
      "execution_count": null,
      "outputs": []
    },
    {
      "cell_type": "code",
      "source": [
        "import tensorflow as tf\n",
        "c = tf.constant([1,2])\n",
        "c.dtype"
      ],
      "metadata": {
        "id": "E2rzG5kmjjsT"
      },
      "execution_count": null,
      "outputs": []
    },
    {
      "cell_type": "code",
      "source": [
        "d = tf.cast(c , dtype=tf.int16)\n",
        "d.dtype"
      ],
      "metadata": {
        "id": "kK1Y-dTtjy54"
      },
      "execution_count": null,
      "outputs": []
    },
    {
      "cell_type": "code",
      "source": [
        "import numpy as np\n",
        "c = tf.constant(np.random.randint(0 , 100 , size = 50))\n",
        "c "
      ],
      "metadata": {
        "id": "xk_lhuEJneLy"
      },
      "execution_count": null,
      "outputs": []
    },
    {
      "cell_type": "code",
      "source": [
        "tf.size(c) , c.shape , c.ndim"
      ],
      "metadata": {
        "id": "2-AHk3aan3jJ"
      },
      "execution_count": null,
      "outputs": []
    },
    {
      "cell_type": "code",
      "source": [
        "tf.reduce_min(c)\n",
        "tf.reduce_max(c)"
      ],
      "metadata": {
        "id": "Mqxo4ijqoRAm"
      },
      "execution_count": null,
      "outputs": []
    },
    {
      "cell_type": "code",
      "source": [
        "tf.reduce_sum(c)"
      ],
      "metadata": {
        "id": "GvH7uWp-ocgr"
      },
      "execution_count": null,
      "outputs": []
    },
    {
      "cell_type": "code",
      "source": [
        "from sklearn.model_selection import train_test_split\n",
        "X1_train , X1_test , y_train , y_test = train_test_split(X1,\n",
        "                                                       y,\n",
        "                                                       test_size=0.2,\n",
        "                                                       random_state=42)"
      ],
      "metadata": {
        "id": "VvHLcy6aPCS2"
      },
      "execution_count": null,
      "outputs": []
    },
    {
      "cell_type": "code",
      "source": [
        "from sklearn.model_selection import train_test_split\n",
        "X2_train , X2_test , y_train , y_test = train_test_split(X2,\n",
        "                                                       y,\n",
        "                                                       test_size=0.2,\n",
        "                                                       random_state=42)"
      ],
      "metadata": {
        "id": "VXiVEtV6PFe5"
      },
      "execution_count": null,
      "outputs": []
    },
    {
      "cell_type": "code",
      "source": [
        "# splitting our data as training and testing to train our model\n",
        "\n",
        "from sklearn.model_selection import train_test_split\n",
        "X_train , X_test , y_train , y_test = train_test_split(X,\n",
        "                                                       y,\n",
        "                                                       test_size=0.2,\n",
        "                                                       random_state=42)"
      ],
      "metadata": {
        "id": "Zid1VCw0PKLB"
      },
      "execution_count": null,
      "outputs": []
    },
    {
      "cell_type": "code",
      "source": [
        "X1 = project01[\"latitude\"]\n",
        "y = project01[\"temperature\"]"
      ],
      "metadata": {
        "id": "BhGSavprPP6s"
      },
      "execution_count": null,
      "outputs": []
    },
    {
      "cell_type": "code",
      "source": [
        "X2 = project01[\"altitude\"]\n",
        "y = project01[\"temperature\"]"
      ],
      "metadata": {
        "id": "h6Va7Z2VPRgn"
      },
      "execution_count": null,
      "outputs": []
    }
  ],
  "metadata": {
    "colab": {
      "provenance": [],
      "authorship_tag": "ABX9TyOOm8g4gU7PuvCWfx0xzWGc",
      "include_colab_link": true
    },
    "kernelspec": {
      "display_name": "Python 3",
      "name": "python3"
    },
    "language_info": {
      "name": "python"
    }
  },
  "nbformat": 4,
  "nbformat_minor": 0
}