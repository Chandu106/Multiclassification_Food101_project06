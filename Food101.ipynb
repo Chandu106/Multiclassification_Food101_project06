{
  "nbformat": 4,
  "nbformat_minor": 0,
  "metadata": {
    "colab": {
      "provenance": [],
      "authorship_tag": "ABX9TyMtxMILJaHcueBZpPYtvp8K",
      "include_colab_link": true
    },
    "kernelspec": {
      "name": "python3",
      "display_name": "Python 3"
    },
    "language_info": {
      "name": "python"
    },
    "accelerator": "GPU",
    "gpuClass": "standard",
    "widgets": {
      "application/vnd.jupyter.widget-state+json": {
        "a869ef21ca5945bfb72c87d2114ef396": {
          "model_module": "@jupyter-widgets/controls",
          "model_name": "HBoxModel",
          "model_module_version": "1.5.0",
          "state": {
            "_dom_classes": [],
            "_model_module": "@jupyter-widgets/controls",
            "_model_module_version": "1.5.0",
            "_model_name": "HBoxModel",
            "_view_count": null,
            "_view_module": "@jupyter-widgets/controls",
            "_view_module_version": "1.5.0",
            "_view_name": "HBoxView",
            "box_style": "",
            "children": [
              "IPY_MODEL_024b70ff86b9452e8e5ee70dfdde3a75",
              "IPY_MODEL_7bae1c7f1a7c4d7abd5fc2144195bcec",
              "IPY_MODEL_3a439cb1583c4d6ea6fabfa1ce1a4804"
            ],
            "layout": "IPY_MODEL_307bb5f6aa89431ba18583fce2ed8a6d"
          }
        },
        "024b70ff86b9452e8e5ee70dfdde3a75": {
          "model_module": "@jupyter-widgets/controls",
          "model_name": "HTMLModel",
          "model_module_version": "1.5.0",
          "state": {
            "_dom_classes": [],
            "_model_module": "@jupyter-widgets/controls",
            "_model_module_version": "1.5.0",
            "_model_name": "HTMLModel",
            "_view_count": null,
            "_view_module": "@jupyter-widgets/controls",
            "_view_module_version": "1.5.0",
            "_view_name": "HTMLView",
            "description": "",
            "description_tooltip": null,
            "layout": "IPY_MODEL_9e93aa12d0dc4ca08300e8a6ab7e69bd",
            "placeholder": "​",
            "style": "IPY_MODEL_5ca3506398f34989a4df9342ed4a3877",
            "value": "Dl Completed...: 100%"
          }
        },
        "7bae1c7f1a7c4d7abd5fc2144195bcec": {
          "model_module": "@jupyter-widgets/controls",
          "model_name": "FloatProgressModel",
          "model_module_version": "1.5.0",
          "state": {
            "_dom_classes": [],
            "_model_module": "@jupyter-widgets/controls",
            "_model_module_version": "1.5.0",
            "_model_name": "FloatProgressModel",
            "_view_count": null,
            "_view_module": "@jupyter-widgets/controls",
            "_view_module_version": "1.5.0",
            "_view_name": "ProgressView",
            "bar_style": "info",
            "description": "",
            "description_tooltip": null,
            "layout": "IPY_MODEL_c29c8937856b455d8bc7651dcc15d6c0",
            "max": 1,
            "min": 0,
            "orientation": "horizontal",
            "style": "IPY_MODEL_cfd60a0516cf4971ab8f92b18cf62f77",
            "value": 1
          }
        },
        "3a439cb1583c4d6ea6fabfa1ce1a4804": {
          "model_module": "@jupyter-widgets/controls",
          "model_name": "HTMLModel",
          "model_module_version": "1.5.0",
          "state": {
            "_dom_classes": [],
            "_model_module": "@jupyter-widgets/controls",
            "_model_module_version": "1.5.0",
            "_model_name": "HTMLModel",
            "_view_count": null,
            "_view_module": "@jupyter-widgets/controls",
            "_view_module_version": "1.5.0",
            "_view_name": "HTMLView",
            "description": "",
            "description_tooltip": null,
            "layout": "IPY_MODEL_f7ec62be5d5f47d386ac4eeb56511e94",
            "placeholder": "​",
            "style": "IPY_MODEL_35deeda5147542eb8e90928193a1ad75",
            "value": " 1/1 [09:28&lt;00:00, 168.85s/ url]"
          }
        },
        "307bb5f6aa89431ba18583fce2ed8a6d": {
          "model_module": "@jupyter-widgets/base",
          "model_name": "LayoutModel",
          "model_module_version": "1.2.0",
          "state": {
            "_model_module": "@jupyter-widgets/base",
            "_model_module_version": "1.2.0",
            "_model_name": "LayoutModel",
            "_view_count": null,
            "_view_module": "@jupyter-widgets/base",
            "_view_module_version": "1.2.0",
            "_view_name": "LayoutView",
            "align_content": null,
            "align_items": null,
            "align_self": null,
            "border": null,
            "bottom": null,
            "display": null,
            "flex": null,
            "flex_flow": null,
            "grid_area": null,
            "grid_auto_columns": null,
            "grid_auto_flow": null,
            "grid_auto_rows": null,
            "grid_column": null,
            "grid_gap": null,
            "grid_row": null,
            "grid_template_areas": null,
            "grid_template_columns": null,
            "grid_template_rows": null,
            "height": null,
            "justify_content": null,
            "justify_items": null,
            "left": null,
            "margin": null,
            "max_height": null,
            "max_width": null,
            "min_height": null,
            "min_width": null,
            "object_fit": null,
            "object_position": null,
            "order": null,
            "overflow": null,
            "overflow_x": null,
            "overflow_y": null,
            "padding": null,
            "right": null,
            "top": null,
            "visibility": null,
            "width": null
          }
        },
        "9e93aa12d0dc4ca08300e8a6ab7e69bd": {
          "model_module": "@jupyter-widgets/base",
          "model_name": "LayoutModel",
          "model_module_version": "1.2.0",
          "state": {
            "_model_module": "@jupyter-widgets/base",
            "_model_module_version": "1.2.0",
            "_model_name": "LayoutModel",
            "_view_count": null,
            "_view_module": "@jupyter-widgets/base",
            "_view_module_version": "1.2.0",
            "_view_name": "LayoutView",
            "align_content": null,
            "align_items": null,
            "align_self": null,
            "border": null,
            "bottom": null,
            "display": null,
            "flex": null,
            "flex_flow": null,
            "grid_area": null,
            "grid_auto_columns": null,
            "grid_auto_flow": null,
            "grid_auto_rows": null,
            "grid_column": null,
            "grid_gap": null,
            "grid_row": null,
            "grid_template_areas": null,
            "grid_template_columns": null,
            "grid_template_rows": null,
            "height": null,
            "justify_content": null,
            "justify_items": null,
            "left": null,
            "margin": null,
            "max_height": null,
            "max_width": null,
            "min_height": null,
            "min_width": null,
            "object_fit": null,
            "object_position": null,
            "order": null,
            "overflow": null,
            "overflow_x": null,
            "overflow_y": null,
            "padding": null,
            "right": null,
            "top": null,
            "visibility": null,
            "width": null
          }
        },
        "5ca3506398f34989a4df9342ed4a3877": {
          "model_module": "@jupyter-widgets/controls",
          "model_name": "DescriptionStyleModel",
          "model_module_version": "1.5.0",
          "state": {
            "_model_module": "@jupyter-widgets/controls",
            "_model_module_version": "1.5.0",
            "_model_name": "DescriptionStyleModel",
            "_view_count": null,
            "_view_module": "@jupyter-widgets/base",
            "_view_module_version": "1.2.0",
            "_view_name": "StyleView",
            "description_width": ""
          }
        },
        "c29c8937856b455d8bc7651dcc15d6c0": {
          "model_module": "@jupyter-widgets/base",
          "model_name": "LayoutModel",
          "model_module_version": "1.2.0",
          "state": {
            "_model_module": "@jupyter-widgets/base",
            "_model_module_version": "1.2.0",
            "_model_name": "LayoutModel",
            "_view_count": null,
            "_view_module": "@jupyter-widgets/base",
            "_view_module_version": "1.2.0",
            "_view_name": "LayoutView",
            "align_content": null,
            "align_items": null,
            "align_self": null,
            "border": null,
            "bottom": null,
            "display": null,
            "flex": null,
            "flex_flow": null,
            "grid_area": null,
            "grid_auto_columns": null,
            "grid_auto_flow": null,
            "grid_auto_rows": null,
            "grid_column": null,
            "grid_gap": null,
            "grid_row": null,
            "grid_template_areas": null,
            "grid_template_columns": null,
            "grid_template_rows": null,
            "height": null,
            "justify_content": null,
            "justify_items": null,
            "left": null,
            "margin": null,
            "max_height": null,
            "max_width": null,
            "min_height": null,
            "min_width": null,
            "object_fit": null,
            "object_position": null,
            "order": null,
            "overflow": null,
            "overflow_x": null,
            "overflow_y": null,
            "padding": null,
            "right": null,
            "top": null,
            "visibility": null,
            "width": "20px"
          }
        },
        "cfd60a0516cf4971ab8f92b18cf62f77": {
          "model_module": "@jupyter-widgets/controls",
          "model_name": "ProgressStyleModel",
          "model_module_version": "1.5.0",
          "state": {
            "_model_module": "@jupyter-widgets/controls",
            "_model_module_version": "1.5.0",
            "_model_name": "ProgressStyleModel",
            "_view_count": null,
            "_view_module": "@jupyter-widgets/base",
            "_view_module_version": "1.2.0",
            "_view_name": "StyleView",
            "bar_color": null,
            "description_width": ""
          }
        },
        "f7ec62be5d5f47d386ac4eeb56511e94": {
          "model_module": "@jupyter-widgets/base",
          "model_name": "LayoutModel",
          "model_module_version": "1.2.0",
          "state": {
            "_model_module": "@jupyter-widgets/base",
            "_model_module_version": "1.2.0",
            "_model_name": "LayoutModel",
            "_view_count": null,
            "_view_module": "@jupyter-widgets/base",
            "_view_module_version": "1.2.0",
            "_view_name": "LayoutView",
            "align_content": null,
            "align_items": null,
            "align_self": null,
            "border": null,
            "bottom": null,
            "display": null,
            "flex": null,
            "flex_flow": null,
            "grid_area": null,
            "grid_auto_columns": null,
            "grid_auto_flow": null,
            "grid_auto_rows": null,
            "grid_column": null,
            "grid_gap": null,
            "grid_row": null,
            "grid_template_areas": null,
            "grid_template_columns": null,
            "grid_template_rows": null,
            "height": null,
            "justify_content": null,
            "justify_items": null,
            "left": null,
            "margin": null,
            "max_height": null,
            "max_width": null,
            "min_height": null,
            "min_width": null,
            "object_fit": null,
            "object_position": null,
            "order": null,
            "overflow": null,
            "overflow_x": null,
            "overflow_y": null,
            "padding": null,
            "right": null,
            "top": null,
            "visibility": null,
            "width": null
          }
        },
        "35deeda5147542eb8e90928193a1ad75": {
          "model_module": "@jupyter-widgets/controls",
          "model_name": "DescriptionStyleModel",
          "model_module_version": "1.5.0",
          "state": {
            "_model_module": "@jupyter-widgets/controls",
            "_model_module_version": "1.5.0",
            "_model_name": "DescriptionStyleModel",
            "_view_count": null,
            "_view_module": "@jupyter-widgets/base",
            "_view_module_version": "1.2.0",
            "_view_name": "StyleView",
            "description_width": ""
          }
        },
        "9482d64c8bc941c09b716057aebaa363": {
          "model_module": "@jupyter-widgets/controls",
          "model_name": "HBoxModel",
          "model_module_version": "1.5.0",
          "state": {
            "_dom_classes": [],
            "_model_module": "@jupyter-widgets/controls",
            "_model_module_version": "1.5.0",
            "_model_name": "HBoxModel",
            "_view_count": null,
            "_view_module": "@jupyter-widgets/controls",
            "_view_module_version": "1.5.0",
            "_view_name": "HBoxView",
            "box_style": "",
            "children": [
              "IPY_MODEL_45740c258b784ef3ac20338bdda619cd",
              "IPY_MODEL_072da128972b49f9accb89aebd39019f",
              "IPY_MODEL_c993bdff80e244d985a7630ffabcce9e"
            ],
            "layout": "IPY_MODEL_b33af9c9eb384407bdb33e7dd505eac8"
          }
        },
        "45740c258b784ef3ac20338bdda619cd": {
          "model_module": "@jupyter-widgets/controls",
          "model_name": "HTMLModel",
          "model_module_version": "1.5.0",
          "state": {
            "_dom_classes": [],
            "_model_module": "@jupyter-widgets/controls",
            "_model_module_version": "1.5.0",
            "_model_name": "HTMLModel",
            "_view_count": null,
            "_view_module": "@jupyter-widgets/controls",
            "_view_module_version": "1.5.0",
            "_view_name": "HTMLView",
            "description": "",
            "description_tooltip": null,
            "layout": "IPY_MODEL_fdb687da1ca9488ea26651f0b881f910",
            "placeholder": "​",
            "style": "IPY_MODEL_542f6e079c1a41b4b26d0e5efff6d8c5",
            "value": "Dl Size...: 100%"
          }
        },
        "072da128972b49f9accb89aebd39019f": {
          "model_module": "@jupyter-widgets/controls",
          "model_name": "FloatProgressModel",
          "model_module_version": "1.5.0",
          "state": {
            "_dom_classes": [],
            "_model_module": "@jupyter-widgets/controls",
            "_model_module_version": "1.5.0",
            "_model_name": "FloatProgressModel",
            "_view_count": null,
            "_view_module": "@jupyter-widgets/controls",
            "_view_module_version": "1.5.0",
            "_view_name": "ProgressView",
            "bar_style": "info",
            "description": "",
            "description_tooltip": null,
            "layout": "IPY_MODEL_be4bd0adfb944816a5d2e359d16eaab3",
            "max": 1,
            "min": 0,
            "orientation": "horizontal",
            "style": "IPY_MODEL_bbf642c2fae146d185a2d9114f8bc8ba",
            "value": 1
          }
        },
        "c993bdff80e244d985a7630ffabcce9e": {
          "model_module": "@jupyter-widgets/controls",
          "model_name": "HTMLModel",
          "model_module_version": "1.5.0",
          "state": {
            "_dom_classes": [],
            "_model_module": "@jupyter-widgets/controls",
            "_model_module_version": "1.5.0",
            "_model_name": "HTMLModel",
            "_view_count": null,
            "_view_module": "@jupyter-widgets/controls",
            "_view_module_version": "1.5.0",
            "_view_name": "HTMLView",
            "description": "",
            "description_tooltip": null,
            "layout": "IPY_MODEL_ce628e7829de46c29022369fa236464e",
            "placeholder": "​",
            "style": "IPY_MODEL_a3eac3b90c3b4fcca513b55139208237",
            "value": " 4764/4764 [09:28&lt;00:00, 31.16 MiB/s]"
          }
        },
        "b33af9c9eb384407bdb33e7dd505eac8": {
          "model_module": "@jupyter-widgets/base",
          "model_name": "LayoutModel",
          "model_module_version": "1.2.0",
          "state": {
            "_model_module": "@jupyter-widgets/base",
            "_model_module_version": "1.2.0",
            "_model_name": "LayoutModel",
            "_view_count": null,
            "_view_module": "@jupyter-widgets/base",
            "_view_module_version": "1.2.0",
            "_view_name": "LayoutView",
            "align_content": null,
            "align_items": null,
            "align_self": null,
            "border": null,
            "bottom": null,
            "display": null,
            "flex": null,
            "flex_flow": null,
            "grid_area": null,
            "grid_auto_columns": null,
            "grid_auto_flow": null,
            "grid_auto_rows": null,
            "grid_column": null,
            "grid_gap": null,
            "grid_row": null,
            "grid_template_areas": null,
            "grid_template_columns": null,
            "grid_template_rows": null,
            "height": null,
            "justify_content": null,
            "justify_items": null,
            "left": null,
            "margin": null,
            "max_height": null,
            "max_width": null,
            "min_height": null,
            "min_width": null,
            "object_fit": null,
            "object_position": null,
            "order": null,
            "overflow": null,
            "overflow_x": null,
            "overflow_y": null,
            "padding": null,
            "right": null,
            "top": null,
            "visibility": null,
            "width": null
          }
        },
        "fdb687da1ca9488ea26651f0b881f910": {
          "model_module": "@jupyter-widgets/base",
          "model_name": "LayoutModel",
          "model_module_version": "1.2.0",
          "state": {
            "_model_module": "@jupyter-widgets/base",
            "_model_module_version": "1.2.0",
            "_model_name": "LayoutModel",
            "_view_count": null,
            "_view_module": "@jupyter-widgets/base",
            "_view_module_version": "1.2.0",
            "_view_name": "LayoutView",
            "align_content": null,
            "align_items": null,
            "align_self": null,
            "border": null,
            "bottom": null,
            "display": null,
            "flex": null,
            "flex_flow": null,
            "grid_area": null,
            "grid_auto_columns": null,
            "grid_auto_flow": null,
            "grid_auto_rows": null,
            "grid_column": null,
            "grid_gap": null,
            "grid_row": null,
            "grid_template_areas": null,
            "grid_template_columns": null,
            "grid_template_rows": null,
            "height": null,
            "justify_content": null,
            "justify_items": null,
            "left": null,
            "margin": null,
            "max_height": null,
            "max_width": null,
            "min_height": null,
            "min_width": null,
            "object_fit": null,
            "object_position": null,
            "order": null,
            "overflow": null,
            "overflow_x": null,
            "overflow_y": null,
            "padding": null,
            "right": null,
            "top": null,
            "visibility": null,
            "width": null
          }
        },
        "542f6e079c1a41b4b26d0e5efff6d8c5": {
          "model_module": "@jupyter-widgets/controls",
          "model_name": "DescriptionStyleModel",
          "model_module_version": "1.5.0",
          "state": {
            "_model_module": "@jupyter-widgets/controls",
            "_model_module_version": "1.5.0",
            "_model_name": "DescriptionStyleModel",
            "_view_count": null,
            "_view_module": "@jupyter-widgets/base",
            "_view_module_version": "1.2.0",
            "_view_name": "StyleView",
            "description_width": ""
          }
        },
        "be4bd0adfb944816a5d2e359d16eaab3": {
          "model_module": "@jupyter-widgets/base",
          "model_name": "LayoutModel",
          "model_module_version": "1.2.0",
          "state": {
            "_model_module": "@jupyter-widgets/base",
            "_model_module_version": "1.2.0",
            "_model_name": "LayoutModel",
            "_view_count": null,
            "_view_module": "@jupyter-widgets/base",
            "_view_module_version": "1.2.0",
            "_view_name": "LayoutView",
            "align_content": null,
            "align_items": null,
            "align_self": null,
            "border": null,
            "bottom": null,
            "display": null,
            "flex": null,
            "flex_flow": null,
            "grid_area": null,
            "grid_auto_columns": null,
            "grid_auto_flow": null,
            "grid_auto_rows": null,
            "grid_column": null,
            "grid_gap": null,
            "grid_row": null,
            "grid_template_areas": null,
            "grid_template_columns": null,
            "grid_template_rows": null,
            "height": null,
            "justify_content": null,
            "justify_items": null,
            "left": null,
            "margin": null,
            "max_height": null,
            "max_width": null,
            "min_height": null,
            "min_width": null,
            "object_fit": null,
            "object_position": null,
            "order": null,
            "overflow": null,
            "overflow_x": null,
            "overflow_y": null,
            "padding": null,
            "right": null,
            "top": null,
            "visibility": null,
            "width": "20px"
          }
        },
        "bbf642c2fae146d185a2d9114f8bc8ba": {
          "model_module": "@jupyter-widgets/controls",
          "model_name": "ProgressStyleModel",
          "model_module_version": "1.5.0",
          "state": {
            "_model_module": "@jupyter-widgets/controls",
            "_model_module_version": "1.5.0",
            "_model_name": "ProgressStyleModel",
            "_view_count": null,
            "_view_module": "@jupyter-widgets/base",
            "_view_module_version": "1.2.0",
            "_view_name": "StyleView",
            "bar_color": null,
            "description_width": ""
          }
        },
        "ce628e7829de46c29022369fa236464e": {
          "model_module": "@jupyter-widgets/base",
          "model_name": "LayoutModel",
          "model_module_version": "1.2.0",
          "state": {
            "_model_module": "@jupyter-widgets/base",
            "_model_module_version": "1.2.0",
            "_model_name": "LayoutModel",
            "_view_count": null,
            "_view_module": "@jupyter-widgets/base",
            "_view_module_version": "1.2.0",
            "_view_name": "LayoutView",
            "align_content": null,
            "align_items": null,
            "align_self": null,
            "border": null,
            "bottom": null,
            "display": null,
            "flex": null,
            "flex_flow": null,
            "grid_area": null,
            "grid_auto_columns": null,
            "grid_auto_flow": null,
            "grid_auto_rows": null,
            "grid_column": null,
            "grid_gap": null,
            "grid_row": null,
            "grid_template_areas": null,
            "grid_template_columns": null,
            "grid_template_rows": null,
            "height": null,
            "justify_content": null,
            "justify_items": null,
            "left": null,
            "margin": null,
            "max_height": null,
            "max_width": null,
            "min_height": null,
            "min_width": null,
            "object_fit": null,
            "object_position": null,
            "order": null,
            "overflow": null,
            "overflow_x": null,
            "overflow_y": null,
            "padding": null,
            "right": null,
            "top": null,
            "visibility": null,
            "width": null
          }
        },
        "a3eac3b90c3b4fcca513b55139208237": {
          "model_module": "@jupyter-widgets/controls",
          "model_name": "DescriptionStyleModel",
          "model_module_version": "1.5.0",
          "state": {
            "_model_module": "@jupyter-widgets/controls",
            "_model_module_version": "1.5.0",
            "_model_name": "DescriptionStyleModel",
            "_view_count": null,
            "_view_module": "@jupyter-widgets/base",
            "_view_module_version": "1.2.0",
            "_view_name": "StyleView",
            "description_width": ""
          }
        },
        "7ab29de1e8cb4bbcb4eef67fe025b578": {
          "model_module": "@jupyter-widgets/controls",
          "model_name": "HBoxModel",
          "model_module_version": "1.5.0",
          "state": {
            "_dom_classes": [],
            "_model_module": "@jupyter-widgets/controls",
            "_model_module_version": "1.5.0",
            "_model_name": "HBoxModel",
            "_view_count": null,
            "_view_module": "@jupyter-widgets/controls",
            "_view_module_version": "1.5.0",
            "_view_name": "HBoxView",
            "box_style": "",
            "children": [
              "IPY_MODEL_63608b78eb594da8851230c761f67914",
              "IPY_MODEL_aab79ebca80243e7814f19ccf7d9c6b8",
              "IPY_MODEL_d2e02a83d903443c967c4aaa2322de7c"
            ],
            "layout": "IPY_MODEL_6a81852273c24ef9b58aad20d461a630"
          }
        },
        "63608b78eb594da8851230c761f67914": {
          "model_module": "@jupyter-widgets/controls",
          "model_name": "HTMLModel",
          "model_module_version": "1.5.0",
          "state": {
            "_dom_classes": [],
            "_model_module": "@jupyter-widgets/controls",
            "_model_module_version": "1.5.0",
            "_model_name": "HTMLModel",
            "_view_count": null,
            "_view_module": "@jupyter-widgets/controls",
            "_view_module_version": "1.5.0",
            "_view_name": "HTMLView",
            "description": "",
            "description_tooltip": null,
            "layout": "IPY_MODEL_1b70d6b950aa479eab2c2748cd6025f5",
            "placeholder": "​",
            "style": "IPY_MODEL_5e518a421ffb4df09107d31ead32eda2",
            "value": "Extraction completed...:  98%"
          }
        },
        "aab79ebca80243e7814f19ccf7d9c6b8": {
          "model_module": "@jupyter-widgets/controls",
          "model_name": "FloatProgressModel",
          "model_module_version": "1.5.0",
          "state": {
            "_dom_classes": [],
            "_model_module": "@jupyter-widgets/controls",
            "_model_module_version": "1.5.0",
            "_model_name": "FloatProgressModel",
            "_view_count": null,
            "_view_module": "@jupyter-widgets/controls",
            "_view_module_version": "1.5.0",
            "_view_name": "ProgressView",
            "bar_style": "info",
            "description": "",
            "description_tooltip": null,
            "layout": "IPY_MODEL_c98766789e9d49acbd14fce2e9cca21a",
            "max": 1,
            "min": 0,
            "orientation": "horizontal",
            "style": "IPY_MODEL_42331216dd8d43959a7857d749e46cbf",
            "value": 1
          }
        },
        "d2e02a83d903443c967c4aaa2322de7c": {
          "model_module": "@jupyter-widgets/controls",
          "model_name": "HTMLModel",
          "model_module_version": "1.5.0",
          "state": {
            "_dom_classes": [],
            "_model_module": "@jupyter-widgets/controls",
            "_model_module_version": "1.5.0",
            "_model_name": "HTMLModel",
            "_view_count": null,
            "_view_module": "@jupyter-widgets/controls",
            "_view_module_version": "1.5.0",
            "_view_name": "HTMLView",
            "description": "",
            "description_tooltip": null,
            "layout": "IPY_MODEL_8a9d5e79221f48b39743558b423c7c3c",
            "placeholder": "​",
            "style": "IPY_MODEL_26cfa07c353448529c634490d6ed460a",
            "value": " 98791/101008 [09:33&lt;00:02, 1022.16 file/s]"
          }
        },
        "6a81852273c24ef9b58aad20d461a630": {
          "model_module": "@jupyter-widgets/base",
          "model_name": "LayoutModel",
          "model_module_version": "1.2.0",
          "state": {
            "_model_module": "@jupyter-widgets/base",
            "_model_module_version": "1.2.0",
            "_model_name": "LayoutModel",
            "_view_count": null,
            "_view_module": "@jupyter-widgets/base",
            "_view_module_version": "1.2.0",
            "_view_name": "LayoutView",
            "align_content": null,
            "align_items": null,
            "align_self": null,
            "border": null,
            "bottom": null,
            "display": null,
            "flex": null,
            "flex_flow": null,
            "grid_area": null,
            "grid_auto_columns": null,
            "grid_auto_flow": null,
            "grid_auto_rows": null,
            "grid_column": null,
            "grid_gap": null,
            "grid_row": null,
            "grid_template_areas": null,
            "grid_template_columns": null,
            "grid_template_rows": null,
            "height": null,
            "justify_content": null,
            "justify_items": null,
            "left": null,
            "margin": null,
            "max_height": null,
            "max_width": null,
            "min_height": null,
            "min_width": null,
            "object_fit": null,
            "object_position": null,
            "order": null,
            "overflow": null,
            "overflow_x": null,
            "overflow_y": null,
            "padding": null,
            "right": null,
            "top": null,
            "visibility": null,
            "width": null
          }
        },
        "1b70d6b950aa479eab2c2748cd6025f5": {
          "model_module": "@jupyter-widgets/base",
          "model_name": "LayoutModel",
          "model_module_version": "1.2.0",
          "state": {
            "_model_module": "@jupyter-widgets/base",
            "_model_module_version": "1.2.0",
            "_model_name": "LayoutModel",
            "_view_count": null,
            "_view_module": "@jupyter-widgets/base",
            "_view_module_version": "1.2.0",
            "_view_name": "LayoutView",
            "align_content": null,
            "align_items": null,
            "align_self": null,
            "border": null,
            "bottom": null,
            "display": null,
            "flex": null,
            "flex_flow": null,
            "grid_area": null,
            "grid_auto_columns": null,
            "grid_auto_flow": null,
            "grid_auto_rows": null,
            "grid_column": null,
            "grid_gap": null,
            "grid_row": null,
            "grid_template_areas": null,
            "grid_template_columns": null,
            "grid_template_rows": null,
            "height": null,
            "justify_content": null,
            "justify_items": null,
            "left": null,
            "margin": null,
            "max_height": null,
            "max_width": null,
            "min_height": null,
            "min_width": null,
            "object_fit": null,
            "object_position": null,
            "order": null,
            "overflow": null,
            "overflow_x": null,
            "overflow_y": null,
            "padding": null,
            "right": null,
            "top": null,
            "visibility": null,
            "width": null
          }
        },
        "5e518a421ffb4df09107d31ead32eda2": {
          "model_module": "@jupyter-widgets/controls",
          "model_name": "DescriptionStyleModel",
          "model_module_version": "1.5.0",
          "state": {
            "_model_module": "@jupyter-widgets/controls",
            "_model_module_version": "1.5.0",
            "_model_name": "DescriptionStyleModel",
            "_view_count": null,
            "_view_module": "@jupyter-widgets/base",
            "_view_module_version": "1.2.0",
            "_view_name": "StyleView",
            "description_width": ""
          }
        },
        "c98766789e9d49acbd14fce2e9cca21a": {
          "model_module": "@jupyter-widgets/base",
          "model_name": "LayoutModel",
          "model_module_version": "1.2.0",
          "state": {
            "_model_module": "@jupyter-widgets/base",
            "_model_module_version": "1.2.0",
            "_model_name": "LayoutModel",
            "_view_count": null,
            "_view_module": "@jupyter-widgets/base",
            "_view_module_version": "1.2.0",
            "_view_name": "LayoutView",
            "align_content": null,
            "align_items": null,
            "align_self": null,
            "border": null,
            "bottom": null,
            "display": null,
            "flex": null,
            "flex_flow": null,
            "grid_area": null,
            "grid_auto_columns": null,
            "grid_auto_flow": null,
            "grid_auto_rows": null,
            "grid_column": null,
            "grid_gap": null,
            "grid_row": null,
            "grid_template_areas": null,
            "grid_template_columns": null,
            "grid_template_rows": null,
            "height": null,
            "justify_content": null,
            "justify_items": null,
            "left": null,
            "margin": null,
            "max_height": null,
            "max_width": null,
            "min_height": null,
            "min_width": null,
            "object_fit": null,
            "object_position": null,
            "order": null,
            "overflow": null,
            "overflow_x": null,
            "overflow_y": null,
            "padding": null,
            "right": null,
            "top": null,
            "visibility": null,
            "width": "20px"
          }
        },
        "42331216dd8d43959a7857d749e46cbf": {
          "model_module": "@jupyter-widgets/controls",
          "model_name": "ProgressStyleModel",
          "model_module_version": "1.5.0",
          "state": {
            "_model_module": "@jupyter-widgets/controls",
            "_model_module_version": "1.5.0",
            "_model_name": "ProgressStyleModel",
            "_view_count": null,
            "_view_module": "@jupyter-widgets/base",
            "_view_module_version": "1.2.0",
            "_view_name": "StyleView",
            "bar_color": null,
            "description_width": ""
          }
        },
        "8a9d5e79221f48b39743558b423c7c3c": {
          "model_module": "@jupyter-widgets/base",
          "model_name": "LayoutModel",
          "model_module_version": "1.2.0",
          "state": {
            "_model_module": "@jupyter-widgets/base",
            "_model_module_version": "1.2.0",
            "_model_name": "LayoutModel",
            "_view_count": null,
            "_view_module": "@jupyter-widgets/base",
            "_view_module_version": "1.2.0",
            "_view_name": "LayoutView",
            "align_content": null,
            "align_items": null,
            "align_self": null,
            "border": null,
            "bottom": null,
            "display": null,
            "flex": null,
            "flex_flow": null,
            "grid_area": null,
            "grid_auto_columns": null,
            "grid_auto_flow": null,
            "grid_auto_rows": null,
            "grid_column": null,
            "grid_gap": null,
            "grid_row": null,
            "grid_template_areas": null,
            "grid_template_columns": null,
            "grid_template_rows": null,
            "height": null,
            "justify_content": null,
            "justify_items": null,
            "left": null,
            "margin": null,
            "max_height": null,
            "max_width": null,
            "min_height": null,
            "min_width": null,
            "object_fit": null,
            "object_position": null,
            "order": null,
            "overflow": null,
            "overflow_x": null,
            "overflow_y": null,
            "padding": null,
            "right": null,
            "top": null,
            "visibility": null,
            "width": null
          }
        },
        "26cfa07c353448529c634490d6ed460a": {
          "model_module": "@jupyter-widgets/controls",
          "model_name": "DescriptionStyleModel",
          "model_module_version": "1.5.0",
          "state": {
            "_model_module": "@jupyter-widgets/controls",
            "_model_module_version": "1.5.0",
            "_model_name": "DescriptionStyleModel",
            "_view_count": null,
            "_view_module": "@jupyter-widgets/base",
            "_view_module_version": "1.2.0",
            "_view_name": "StyleView",
            "description_width": ""
          }
        },
        "51446628d67a4c7d9e9ea2a4bb1c16c3": {
          "model_module": "@jupyter-widgets/controls",
          "model_name": "HBoxModel",
          "model_module_version": "1.5.0",
          "state": {
            "_dom_classes": [],
            "_model_module": "@jupyter-widgets/controls",
            "_model_module_version": "1.5.0",
            "_model_name": "HBoxModel",
            "_view_count": null,
            "_view_module": "@jupyter-widgets/controls",
            "_view_module_version": "1.5.0",
            "_view_name": "HBoxView",
            "box_style": "",
            "children": [
              "IPY_MODEL_a38666f19a4243de806ddc30e8b25a80",
              "IPY_MODEL_ae77b04c423e4468a14354a559a94862",
              "IPY_MODEL_eafb1aaa9e504e968ad6481acb16b115"
            ],
            "layout": "IPY_MODEL_ae0f0c194eba4494ba30cc887b625ee3"
          }
        },
        "a38666f19a4243de806ddc30e8b25a80": {
          "model_module": "@jupyter-widgets/controls",
          "model_name": "HTMLModel",
          "model_module_version": "1.5.0",
          "state": {
            "_dom_classes": [],
            "_model_module": "@jupyter-widgets/controls",
            "_model_module_version": "1.5.0",
            "_model_name": "HTMLModel",
            "_view_count": null,
            "_view_module": "@jupyter-widgets/controls",
            "_view_module_version": "1.5.0",
            "_view_name": "HTMLView",
            "description": "",
            "description_tooltip": null,
            "layout": "IPY_MODEL_10dc68971f6140c08c9e94b01a512c05",
            "placeholder": "​",
            "style": "IPY_MODEL_06cac9cb273540518d35b509771f6c00",
            "value": "Shuffling /root/tensorflow_datasets/food101/2.0.0.incompleteOMW1X7/food101-train.tfrecord*...: 100%"
          }
        },
        "ae77b04c423e4468a14354a559a94862": {
          "model_module": "@jupyter-widgets/controls",
          "model_name": "FloatProgressModel",
          "model_module_version": "1.5.0",
          "state": {
            "_dom_classes": [],
            "_model_module": "@jupyter-widgets/controls",
            "_model_module_version": "1.5.0",
            "_model_name": "FloatProgressModel",
            "_view_count": null,
            "_view_module": "@jupyter-widgets/controls",
            "_view_module_version": "1.5.0",
            "_view_name": "ProgressView",
            "bar_style": "",
            "description": "",
            "description_tooltip": null,
            "layout": "IPY_MODEL_71d055829e7f49c2bac0b62ed5ee837c",
            "max": 75750,
            "min": 0,
            "orientation": "horizontal",
            "style": "IPY_MODEL_fbc3880a9016478b9bf43d6e76d89585",
            "value": 75750
          }
        },
        "eafb1aaa9e504e968ad6481acb16b115": {
          "model_module": "@jupyter-widgets/controls",
          "model_name": "HTMLModel",
          "model_module_version": "1.5.0",
          "state": {
            "_dom_classes": [],
            "_model_module": "@jupyter-widgets/controls",
            "_model_module_version": "1.5.0",
            "_model_name": "HTMLModel",
            "_view_count": null,
            "_view_module": "@jupyter-widgets/controls",
            "_view_module_version": "1.5.0",
            "_view_name": "HTMLView",
            "description": "",
            "description_tooltip": null,
            "layout": "IPY_MODEL_19dad71df3c04153bbb9c32c6061ce41",
            "placeholder": "​",
            "style": "IPY_MODEL_a280ad3354a448389f1c8c17daf7167d",
            "value": " 75731/75750 [00:28&lt;00:00, 3003.87 examples/s]"
          }
        },
        "ae0f0c194eba4494ba30cc887b625ee3": {
          "model_module": "@jupyter-widgets/base",
          "model_name": "LayoutModel",
          "model_module_version": "1.2.0",
          "state": {
            "_model_module": "@jupyter-widgets/base",
            "_model_module_version": "1.2.0",
            "_model_name": "LayoutModel",
            "_view_count": null,
            "_view_module": "@jupyter-widgets/base",
            "_view_module_version": "1.2.0",
            "_view_name": "LayoutView",
            "align_content": null,
            "align_items": null,
            "align_self": null,
            "border": null,
            "bottom": null,
            "display": null,
            "flex": null,
            "flex_flow": null,
            "grid_area": null,
            "grid_auto_columns": null,
            "grid_auto_flow": null,
            "grid_auto_rows": null,
            "grid_column": null,
            "grid_gap": null,
            "grid_row": null,
            "grid_template_areas": null,
            "grid_template_columns": null,
            "grid_template_rows": null,
            "height": null,
            "justify_content": null,
            "justify_items": null,
            "left": null,
            "margin": null,
            "max_height": null,
            "max_width": null,
            "min_height": null,
            "min_width": null,
            "object_fit": null,
            "object_position": null,
            "order": null,
            "overflow": null,
            "overflow_x": null,
            "overflow_y": null,
            "padding": null,
            "right": null,
            "top": null,
            "visibility": "hidden",
            "width": null
          }
        },
        "10dc68971f6140c08c9e94b01a512c05": {
          "model_module": "@jupyter-widgets/base",
          "model_name": "LayoutModel",
          "model_module_version": "1.2.0",
          "state": {
            "_model_module": "@jupyter-widgets/base",
            "_model_module_version": "1.2.0",
            "_model_name": "LayoutModel",
            "_view_count": null,
            "_view_module": "@jupyter-widgets/base",
            "_view_module_version": "1.2.0",
            "_view_name": "LayoutView",
            "align_content": null,
            "align_items": null,
            "align_self": null,
            "border": null,
            "bottom": null,
            "display": null,
            "flex": null,
            "flex_flow": null,
            "grid_area": null,
            "grid_auto_columns": null,
            "grid_auto_flow": null,
            "grid_auto_rows": null,
            "grid_column": null,
            "grid_gap": null,
            "grid_row": null,
            "grid_template_areas": null,
            "grid_template_columns": null,
            "grid_template_rows": null,
            "height": null,
            "justify_content": null,
            "justify_items": null,
            "left": null,
            "margin": null,
            "max_height": null,
            "max_width": null,
            "min_height": null,
            "min_width": null,
            "object_fit": null,
            "object_position": null,
            "order": null,
            "overflow": null,
            "overflow_x": null,
            "overflow_y": null,
            "padding": null,
            "right": null,
            "top": null,
            "visibility": null,
            "width": null
          }
        },
        "06cac9cb273540518d35b509771f6c00": {
          "model_module": "@jupyter-widgets/controls",
          "model_name": "DescriptionStyleModel",
          "model_module_version": "1.5.0",
          "state": {
            "_model_module": "@jupyter-widgets/controls",
            "_model_module_version": "1.5.0",
            "_model_name": "DescriptionStyleModel",
            "_view_count": null,
            "_view_module": "@jupyter-widgets/base",
            "_view_module_version": "1.2.0",
            "_view_name": "StyleView",
            "description_width": ""
          }
        },
        "71d055829e7f49c2bac0b62ed5ee837c": {
          "model_module": "@jupyter-widgets/base",
          "model_name": "LayoutModel",
          "model_module_version": "1.2.0",
          "state": {
            "_model_module": "@jupyter-widgets/base",
            "_model_module_version": "1.2.0",
            "_model_name": "LayoutModel",
            "_view_count": null,
            "_view_module": "@jupyter-widgets/base",
            "_view_module_version": "1.2.0",
            "_view_name": "LayoutView",
            "align_content": null,
            "align_items": null,
            "align_self": null,
            "border": null,
            "bottom": null,
            "display": null,
            "flex": null,
            "flex_flow": null,
            "grid_area": null,
            "grid_auto_columns": null,
            "grid_auto_flow": null,
            "grid_auto_rows": null,
            "grid_column": null,
            "grid_gap": null,
            "grid_row": null,
            "grid_template_areas": null,
            "grid_template_columns": null,
            "grid_template_rows": null,
            "height": null,
            "justify_content": null,
            "justify_items": null,
            "left": null,
            "margin": null,
            "max_height": null,
            "max_width": null,
            "min_height": null,
            "min_width": null,
            "object_fit": null,
            "object_position": null,
            "order": null,
            "overflow": null,
            "overflow_x": null,
            "overflow_y": null,
            "padding": null,
            "right": null,
            "top": null,
            "visibility": null,
            "width": null
          }
        },
        "fbc3880a9016478b9bf43d6e76d89585": {
          "model_module": "@jupyter-widgets/controls",
          "model_name": "ProgressStyleModel",
          "model_module_version": "1.5.0",
          "state": {
            "_model_module": "@jupyter-widgets/controls",
            "_model_module_version": "1.5.0",
            "_model_name": "ProgressStyleModel",
            "_view_count": null,
            "_view_module": "@jupyter-widgets/base",
            "_view_module_version": "1.2.0",
            "_view_name": "StyleView",
            "bar_color": null,
            "description_width": ""
          }
        },
        "19dad71df3c04153bbb9c32c6061ce41": {
          "model_module": "@jupyter-widgets/base",
          "model_name": "LayoutModel",
          "model_module_version": "1.2.0",
          "state": {
            "_model_module": "@jupyter-widgets/base",
            "_model_module_version": "1.2.0",
            "_model_name": "LayoutModel",
            "_view_count": null,
            "_view_module": "@jupyter-widgets/base",
            "_view_module_version": "1.2.0",
            "_view_name": "LayoutView",
            "align_content": null,
            "align_items": null,
            "align_self": null,
            "border": null,
            "bottom": null,
            "display": null,
            "flex": null,
            "flex_flow": null,
            "grid_area": null,
            "grid_auto_columns": null,
            "grid_auto_flow": null,
            "grid_auto_rows": null,
            "grid_column": null,
            "grid_gap": null,
            "grid_row": null,
            "grid_template_areas": null,
            "grid_template_columns": null,
            "grid_template_rows": null,
            "height": null,
            "justify_content": null,
            "justify_items": null,
            "left": null,
            "margin": null,
            "max_height": null,
            "max_width": null,
            "min_height": null,
            "min_width": null,
            "object_fit": null,
            "object_position": null,
            "order": null,
            "overflow": null,
            "overflow_x": null,
            "overflow_y": null,
            "padding": null,
            "right": null,
            "top": null,
            "visibility": null,
            "width": null
          }
        },
        "a280ad3354a448389f1c8c17daf7167d": {
          "model_module": "@jupyter-widgets/controls",
          "model_name": "DescriptionStyleModel",
          "model_module_version": "1.5.0",
          "state": {
            "_model_module": "@jupyter-widgets/controls",
            "_model_module_version": "1.5.0",
            "_model_name": "DescriptionStyleModel",
            "_view_count": null,
            "_view_module": "@jupyter-widgets/base",
            "_view_module_version": "1.2.0",
            "_view_name": "StyleView",
            "description_width": ""
          }
        },
        "1e91cbbaf6f946ad8dc0bd6dce783b22": {
          "model_module": "@jupyter-widgets/controls",
          "model_name": "HBoxModel",
          "model_module_version": "1.5.0",
          "state": {
            "_dom_classes": [],
            "_model_module": "@jupyter-widgets/controls",
            "_model_module_version": "1.5.0",
            "_model_name": "HBoxModel",
            "_view_count": null,
            "_view_module": "@jupyter-widgets/controls",
            "_view_module_version": "1.5.0",
            "_view_name": "HBoxView",
            "box_style": "",
            "children": [
              "IPY_MODEL_c86a06c44e3f4bf9b7d6139d85373395",
              "IPY_MODEL_4bd323cfa7844fc6ad88ab24f2610216",
              "IPY_MODEL_8d4c5a17cf1549ff9712f5362ebdeb62"
            ],
            "layout": "IPY_MODEL_1454ebfbd9e44e53ad9b49ae08761edb"
          }
        },
        "c86a06c44e3f4bf9b7d6139d85373395": {
          "model_module": "@jupyter-widgets/controls",
          "model_name": "HTMLModel",
          "model_module_version": "1.5.0",
          "state": {
            "_dom_classes": [],
            "_model_module": "@jupyter-widgets/controls",
            "_model_module_version": "1.5.0",
            "_model_name": "HTMLModel",
            "_view_count": null,
            "_view_module": "@jupyter-widgets/controls",
            "_view_module_version": "1.5.0",
            "_view_name": "HTMLView",
            "description": "",
            "description_tooltip": null,
            "layout": "IPY_MODEL_5ba49022cde846e5aff085339225bee5",
            "placeholder": "​",
            "style": "IPY_MODEL_3e969c66fc67425f9c21c3830b6bbffc",
            "value": "Generating validation examples...: "
          }
        },
        "4bd323cfa7844fc6ad88ab24f2610216": {
          "model_module": "@jupyter-widgets/controls",
          "model_name": "FloatProgressModel",
          "model_module_version": "1.5.0",
          "state": {
            "_dom_classes": [],
            "_model_module": "@jupyter-widgets/controls",
            "_model_module_version": "1.5.0",
            "_model_name": "FloatProgressModel",
            "_view_count": null,
            "_view_module": "@jupyter-widgets/controls",
            "_view_module_version": "1.5.0",
            "_view_name": "ProgressView",
            "bar_style": "info",
            "description": "",
            "description_tooltip": null,
            "layout": "IPY_MODEL_c454f6dcf330444196107a9e98535693",
            "max": 1,
            "min": 0,
            "orientation": "horizontal",
            "style": "IPY_MODEL_68a7b4f918534b7f9794a812b3ece79b",
            "value": 1
          }
        },
        "8d4c5a17cf1549ff9712f5362ebdeb62": {
          "model_module": "@jupyter-widgets/controls",
          "model_name": "HTMLModel",
          "model_module_version": "1.5.0",
          "state": {
            "_dom_classes": [],
            "_model_module": "@jupyter-widgets/controls",
            "_model_module_version": "1.5.0",
            "_model_name": "HTMLModel",
            "_view_count": null,
            "_view_module": "@jupyter-widgets/controls",
            "_view_module_version": "1.5.0",
            "_view_name": "HTMLView",
            "description": "",
            "description_tooltip": null,
            "layout": "IPY_MODEL_b915c4d7a1d642e78707666484e7b494",
            "placeholder": "​",
            "style": "IPY_MODEL_c71000550b2e4d50be1c394b762ce4b1",
            "value": " 25239/? [00:51&lt;00:00, 536.57 examples/s]"
          }
        },
        "1454ebfbd9e44e53ad9b49ae08761edb": {
          "model_module": "@jupyter-widgets/base",
          "model_name": "LayoutModel",
          "model_module_version": "1.2.0",
          "state": {
            "_model_module": "@jupyter-widgets/base",
            "_model_module_version": "1.2.0",
            "_model_name": "LayoutModel",
            "_view_count": null,
            "_view_module": "@jupyter-widgets/base",
            "_view_module_version": "1.2.0",
            "_view_name": "LayoutView",
            "align_content": null,
            "align_items": null,
            "align_self": null,
            "border": null,
            "bottom": null,
            "display": null,
            "flex": null,
            "flex_flow": null,
            "grid_area": null,
            "grid_auto_columns": null,
            "grid_auto_flow": null,
            "grid_auto_rows": null,
            "grid_column": null,
            "grid_gap": null,
            "grid_row": null,
            "grid_template_areas": null,
            "grid_template_columns": null,
            "grid_template_rows": null,
            "height": null,
            "justify_content": null,
            "justify_items": null,
            "left": null,
            "margin": null,
            "max_height": null,
            "max_width": null,
            "min_height": null,
            "min_width": null,
            "object_fit": null,
            "object_position": null,
            "order": null,
            "overflow": null,
            "overflow_x": null,
            "overflow_y": null,
            "padding": null,
            "right": null,
            "top": null,
            "visibility": "hidden",
            "width": null
          }
        },
        "5ba49022cde846e5aff085339225bee5": {
          "model_module": "@jupyter-widgets/base",
          "model_name": "LayoutModel",
          "model_module_version": "1.2.0",
          "state": {
            "_model_module": "@jupyter-widgets/base",
            "_model_module_version": "1.2.0",
            "_model_name": "LayoutModel",
            "_view_count": null,
            "_view_module": "@jupyter-widgets/base",
            "_view_module_version": "1.2.0",
            "_view_name": "LayoutView",
            "align_content": null,
            "align_items": null,
            "align_self": null,
            "border": null,
            "bottom": null,
            "display": null,
            "flex": null,
            "flex_flow": null,
            "grid_area": null,
            "grid_auto_columns": null,
            "grid_auto_flow": null,
            "grid_auto_rows": null,
            "grid_column": null,
            "grid_gap": null,
            "grid_row": null,
            "grid_template_areas": null,
            "grid_template_columns": null,
            "grid_template_rows": null,
            "height": null,
            "justify_content": null,
            "justify_items": null,
            "left": null,
            "margin": null,
            "max_height": null,
            "max_width": null,
            "min_height": null,
            "min_width": null,
            "object_fit": null,
            "object_position": null,
            "order": null,
            "overflow": null,
            "overflow_x": null,
            "overflow_y": null,
            "padding": null,
            "right": null,
            "top": null,
            "visibility": null,
            "width": null
          }
        },
        "3e969c66fc67425f9c21c3830b6bbffc": {
          "model_module": "@jupyter-widgets/controls",
          "model_name": "DescriptionStyleModel",
          "model_module_version": "1.5.0",
          "state": {
            "_model_module": "@jupyter-widgets/controls",
            "_model_module_version": "1.5.0",
            "_model_name": "DescriptionStyleModel",
            "_view_count": null,
            "_view_module": "@jupyter-widgets/base",
            "_view_module_version": "1.2.0",
            "_view_name": "StyleView",
            "description_width": ""
          }
        },
        "c454f6dcf330444196107a9e98535693": {
          "model_module": "@jupyter-widgets/base",
          "model_name": "LayoutModel",
          "model_module_version": "1.2.0",
          "state": {
            "_model_module": "@jupyter-widgets/base",
            "_model_module_version": "1.2.0",
            "_model_name": "LayoutModel",
            "_view_count": null,
            "_view_module": "@jupyter-widgets/base",
            "_view_module_version": "1.2.0",
            "_view_name": "LayoutView",
            "align_content": null,
            "align_items": null,
            "align_self": null,
            "border": null,
            "bottom": null,
            "display": null,
            "flex": null,
            "flex_flow": null,
            "grid_area": null,
            "grid_auto_columns": null,
            "grid_auto_flow": null,
            "grid_auto_rows": null,
            "grid_column": null,
            "grid_gap": null,
            "grid_row": null,
            "grid_template_areas": null,
            "grid_template_columns": null,
            "grid_template_rows": null,
            "height": null,
            "justify_content": null,
            "justify_items": null,
            "left": null,
            "margin": null,
            "max_height": null,
            "max_width": null,
            "min_height": null,
            "min_width": null,
            "object_fit": null,
            "object_position": null,
            "order": null,
            "overflow": null,
            "overflow_x": null,
            "overflow_y": null,
            "padding": null,
            "right": null,
            "top": null,
            "visibility": null,
            "width": "20px"
          }
        },
        "68a7b4f918534b7f9794a812b3ece79b": {
          "model_module": "@jupyter-widgets/controls",
          "model_name": "ProgressStyleModel",
          "model_module_version": "1.5.0",
          "state": {
            "_model_module": "@jupyter-widgets/controls",
            "_model_module_version": "1.5.0",
            "_model_name": "ProgressStyleModel",
            "_view_count": null,
            "_view_module": "@jupyter-widgets/base",
            "_view_module_version": "1.2.0",
            "_view_name": "StyleView",
            "bar_color": null,
            "description_width": ""
          }
        },
        "b915c4d7a1d642e78707666484e7b494": {
          "model_module": "@jupyter-widgets/base",
          "model_name": "LayoutModel",
          "model_module_version": "1.2.0",
          "state": {
            "_model_module": "@jupyter-widgets/base",
            "_model_module_version": "1.2.0",
            "_model_name": "LayoutModel",
            "_view_count": null,
            "_view_module": "@jupyter-widgets/base",
            "_view_module_version": "1.2.0",
            "_view_name": "LayoutView",
            "align_content": null,
            "align_items": null,
            "align_self": null,
            "border": null,
            "bottom": null,
            "display": null,
            "flex": null,
            "flex_flow": null,
            "grid_area": null,
            "grid_auto_columns": null,
            "grid_auto_flow": null,
            "grid_auto_rows": null,
            "grid_column": null,
            "grid_gap": null,
            "grid_row": null,
            "grid_template_areas": null,
            "grid_template_columns": null,
            "grid_template_rows": null,
            "height": null,
            "justify_content": null,
            "justify_items": null,
            "left": null,
            "margin": null,
            "max_height": null,
            "max_width": null,
            "min_height": null,
            "min_width": null,
            "object_fit": null,
            "object_position": null,
            "order": null,
            "overflow": null,
            "overflow_x": null,
            "overflow_y": null,
            "padding": null,
            "right": null,
            "top": null,
            "visibility": null,
            "width": null
          }
        },
        "c71000550b2e4d50be1c394b762ce4b1": {
          "model_module": "@jupyter-widgets/controls",
          "model_name": "DescriptionStyleModel",
          "model_module_version": "1.5.0",
          "state": {
            "_model_module": "@jupyter-widgets/controls",
            "_model_module_version": "1.5.0",
            "_model_name": "DescriptionStyleModel",
            "_view_count": null,
            "_view_module": "@jupyter-widgets/base",
            "_view_module_version": "1.2.0",
            "_view_name": "StyleView",
            "description_width": ""
          }
        },
        "05a5588a09144296bbf2033ef75a1d0f": {
          "model_module": "@jupyter-widgets/controls",
          "model_name": "HBoxModel",
          "model_module_version": "1.5.0",
          "state": {
            "_dom_classes": [],
            "_model_module": "@jupyter-widgets/controls",
            "_model_module_version": "1.5.0",
            "_model_name": "HBoxModel",
            "_view_count": null,
            "_view_module": "@jupyter-widgets/controls",
            "_view_module_version": "1.5.0",
            "_view_name": "HBoxView",
            "box_style": "",
            "children": [
              "IPY_MODEL_d7e3627645bd489c9255ca6049d917c3",
              "IPY_MODEL_81295919410f400e84482868206fa14d",
              "IPY_MODEL_62658a88e7da4b70946491b097ea3269"
            ],
            "layout": "IPY_MODEL_0782b5daac6545cb99e410282457b2b5"
          }
        },
        "d7e3627645bd489c9255ca6049d917c3": {
          "model_module": "@jupyter-widgets/controls",
          "model_name": "HTMLModel",
          "model_module_version": "1.5.0",
          "state": {
            "_dom_classes": [],
            "_model_module": "@jupyter-widgets/controls",
            "_model_module_version": "1.5.0",
            "_model_name": "HTMLModel",
            "_view_count": null,
            "_view_module": "@jupyter-widgets/controls",
            "_view_module_version": "1.5.0",
            "_view_name": "HTMLView",
            "description": "",
            "description_tooltip": null,
            "layout": "IPY_MODEL_b62af86a418840efa3100dd0343b1521",
            "placeholder": "​",
            "style": "IPY_MODEL_abbbefbe45b04b6fb30b17865bf66aef",
            "value": "Shuffling /root/tensorflow_datasets/food101/2.0.0.incompleteOMW1X7/food101-validation.tfrecord*...:  98%"
          }
        },
        "81295919410f400e84482868206fa14d": {
          "model_module": "@jupyter-widgets/controls",
          "model_name": "FloatProgressModel",
          "model_module_version": "1.5.0",
          "state": {
            "_dom_classes": [],
            "_model_module": "@jupyter-widgets/controls",
            "_model_module_version": "1.5.0",
            "_model_name": "FloatProgressModel",
            "_view_count": null,
            "_view_module": "@jupyter-widgets/controls",
            "_view_module_version": "1.5.0",
            "_view_name": "ProgressView",
            "bar_style": "",
            "description": "",
            "description_tooltip": null,
            "layout": "IPY_MODEL_076914c1467c4616af09c1de608d8747",
            "max": 25250,
            "min": 0,
            "orientation": "horizontal",
            "style": "IPY_MODEL_2593dc4a097e44909bd72d511f7d5143",
            "value": 25250
          }
        },
        "62658a88e7da4b70946491b097ea3269": {
          "model_module": "@jupyter-widgets/controls",
          "model_name": "HTMLModel",
          "model_module_version": "1.5.0",
          "state": {
            "_dom_classes": [],
            "_model_module": "@jupyter-widgets/controls",
            "_model_module_version": "1.5.0",
            "_model_name": "HTMLModel",
            "_view_count": null,
            "_view_module": "@jupyter-widgets/controls",
            "_view_module_version": "1.5.0",
            "_view_name": "HTMLView",
            "description": "",
            "description_tooltip": null,
            "layout": "IPY_MODEL_6e36386e695a48f08b5f45fac2dc647d",
            "placeholder": "​",
            "style": "IPY_MODEL_b5d4e4d3cf2b44cb9a40bf79a734bf08",
            "value": " 24770/25250 [00:04&lt;00:00, 5938.66 examples/s]"
          }
        },
        "0782b5daac6545cb99e410282457b2b5": {
          "model_module": "@jupyter-widgets/base",
          "model_name": "LayoutModel",
          "model_module_version": "1.2.0",
          "state": {
            "_model_module": "@jupyter-widgets/base",
            "_model_module_version": "1.2.0",
            "_model_name": "LayoutModel",
            "_view_count": null,
            "_view_module": "@jupyter-widgets/base",
            "_view_module_version": "1.2.0",
            "_view_name": "LayoutView",
            "align_content": null,
            "align_items": null,
            "align_self": null,
            "border": null,
            "bottom": null,
            "display": null,
            "flex": null,
            "flex_flow": null,
            "grid_area": null,
            "grid_auto_columns": null,
            "grid_auto_flow": null,
            "grid_auto_rows": null,
            "grid_column": null,
            "grid_gap": null,
            "grid_row": null,
            "grid_template_areas": null,
            "grid_template_columns": null,
            "grid_template_rows": null,
            "height": null,
            "justify_content": null,
            "justify_items": null,
            "left": null,
            "margin": null,
            "max_height": null,
            "max_width": null,
            "min_height": null,
            "min_width": null,
            "object_fit": null,
            "object_position": null,
            "order": null,
            "overflow": null,
            "overflow_x": null,
            "overflow_y": null,
            "padding": null,
            "right": null,
            "top": null,
            "visibility": "hidden",
            "width": null
          }
        },
        "b62af86a418840efa3100dd0343b1521": {
          "model_module": "@jupyter-widgets/base",
          "model_name": "LayoutModel",
          "model_module_version": "1.2.0",
          "state": {
            "_model_module": "@jupyter-widgets/base",
            "_model_module_version": "1.2.0",
            "_model_name": "LayoutModel",
            "_view_count": null,
            "_view_module": "@jupyter-widgets/base",
            "_view_module_version": "1.2.0",
            "_view_name": "LayoutView",
            "align_content": null,
            "align_items": null,
            "align_self": null,
            "border": null,
            "bottom": null,
            "display": null,
            "flex": null,
            "flex_flow": null,
            "grid_area": null,
            "grid_auto_columns": null,
            "grid_auto_flow": null,
            "grid_auto_rows": null,
            "grid_column": null,
            "grid_gap": null,
            "grid_row": null,
            "grid_template_areas": null,
            "grid_template_columns": null,
            "grid_template_rows": null,
            "height": null,
            "justify_content": null,
            "justify_items": null,
            "left": null,
            "margin": null,
            "max_height": null,
            "max_width": null,
            "min_height": null,
            "min_width": null,
            "object_fit": null,
            "object_position": null,
            "order": null,
            "overflow": null,
            "overflow_x": null,
            "overflow_y": null,
            "padding": null,
            "right": null,
            "top": null,
            "visibility": null,
            "width": null
          }
        },
        "abbbefbe45b04b6fb30b17865bf66aef": {
          "model_module": "@jupyter-widgets/controls",
          "model_name": "DescriptionStyleModel",
          "model_module_version": "1.5.0",
          "state": {
            "_model_module": "@jupyter-widgets/controls",
            "_model_module_version": "1.5.0",
            "_model_name": "DescriptionStyleModel",
            "_view_count": null,
            "_view_module": "@jupyter-widgets/base",
            "_view_module_version": "1.2.0",
            "_view_name": "StyleView",
            "description_width": ""
          }
        },
        "076914c1467c4616af09c1de608d8747": {
          "model_module": "@jupyter-widgets/base",
          "model_name": "LayoutModel",
          "model_module_version": "1.2.0",
          "state": {
            "_model_module": "@jupyter-widgets/base",
            "_model_module_version": "1.2.0",
            "_model_name": "LayoutModel",
            "_view_count": null,
            "_view_module": "@jupyter-widgets/base",
            "_view_module_version": "1.2.0",
            "_view_name": "LayoutView",
            "align_content": null,
            "align_items": null,
            "align_self": null,
            "border": null,
            "bottom": null,
            "display": null,
            "flex": null,
            "flex_flow": null,
            "grid_area": null,
            "grid_auto_columns": null,
            "grid_auto_flow": null,
            "grid_auto_rows": null,
            "grid_column": null,
            "grid_gap": null,
            "grid_row": null,
            "grid_template_areas": null,
            "grid_template_columns": null,
            "grid_template_rows": null,
            "height": null,
            "justify_content": null,
            "justify_items": null,
            "left": null,
            "margin": null,
            "max_height": null,
            "max_width": null,
            "min_height": null,
            "min_width": null,
            "object_fit": null,
            "object_position": null,
            "order": null,
            "overflow": null,
            "overflow_x": null,
            "overflow_y": null,
            "padding": null,
            "right": null,
            "top": null,
            "visibility": null,
            "width": null
          }
        },
        "2593dc4a097e44909bd72d511f7d5143": {
          "model_module": "@jupyter-widgets/controls",
          "model_name": "ProgressStyleModel",
          "model_module_version": "1.5.0",
          "state": {
            "_model_module": "@jupyter-widgets/controls",
            "_model_module_version": "1.5.0",
            "_model_name": "ProgressStyleModel",
            "_view_count": null,
            "_view_module": "@jupyter-widgets/base",
            "_view_module_version": "1.2.0",
            "_view_name": "StyleView",
            "bar_color": null,
            "description_width": ""
          }
        },
        "6e36386e695a48f08b5f45fac2dc647d": {
          "model_module": "@jupyter-widgets/base",
          "model_name": "LayoutModel",
          "model_module_version": "1.2.0",
          "state": {
            "_model_module": "@jupyter-widgets/base",
            "_model_module_version": "1.2.0",
            "_model_name": "LayoutModel",
            "_view_count": null,
            "_view_module": "@jupyter-widgets/base",
            "_view_module_version": "1.2.0",
            "_view_name": "LayoutView",
            "align_content": null,
            "align_items": null,
            "align_self": null,
            "border": null,
            "bottom": null,
            "display": null,
            "flex": null,
            "flex_flow": null,
            "grid_area": null,
            "grid_auto_columns": null,
            "grid_auto_flow": null,
            "grid_auto_rows": null,
            "grid_column": null,
            "grid_gap": null,
            "grid_row": null,
            "grid_template_areas": null,
            "grid_template_columns": null,
            "grid_template_rows": null,
            "height": null,
            "justify_content": null,
            "justify_items": null,
            "left": null,
            "margin": null,
            "max_height": null,
            "max_width": null,
            "min_height": null,
            "min_width": null,
            "object_fit": null,
            "object_position": null,
            "order": null,
            "overflow": null,
            "overflow_x": null,
            "overflow_y": null,
            "padding": null,
            "right": null,
            "top": null,
            "visibility": null,
            "width": null
          }
        },
        "b5d4e4d3cf2b44cb9a40bf79a734bf08": {
          "model_module": "@jupyter-widgets/controls",
          "model_name": "DescriptionStyleModel",
          "model_module_version": "1.5.0",
          "state": {
            "_model_module": "@jupyter-widgets/controls",
            "_model_module_version": "1.5.0",
            "_model_name": "DescriptionStyleModel",
            "_view_count": null,
            "_view_module": "@jupyter-widgets/base",
            "_view_module_version": "1.2.0",
            "_view_name": "StyleView",
            "description_width": ""
          }
        }
      }
    }
  },
  "cells": [
    {
      "cell_type": "markdown",
      "metadata": {
        "id": "view-in-github",
        "colab_type": "text"
      },
      "source": [
        "<a href=\"https://colab.research.google.com/github/Chandu106/Multiclassification_Food101_project06/blob/main/Food101.ipynb\" target=\"_parent\"><img src=\"https://colab.research.google.com/assets/colab-badge.svg\" alt=\"Open In Colab\"/></a>"
      ]
    },
    {
      "cell_type": "code",
      "execution_count": 2,
      "metadata": {
        "colab": {
          "base_uri": "https://localhost:8080/"
        },
        "id": "NCdk3CriKfLN",
        "outputId": "cfcc7b96-ef24-438d-9cc0-4dde08724bb6"
      },
      "outputs": [
        {
          "output_type": "stream",
          "name": "stdout",
          "text": [
            "/bin/bash: nvidia-smi: command not found\n"
          ]
        }
      ],
      "source": [
        "!nvidia-smi -L"
      ]
    },
    {
      "cell_type": "markdown",
      "source": [
        "## **HELPER FUNCTIONS**"
      ],
      "metadata": {
        "id": "7CFol9eDa2NN"
      }
    },
    {
      "cell_type": "code",
      "source": [
        "!wget https://raw.githubusercontent.com/mrdbourke/tensorflow-deep-learning/main/extras/helper_functions.py"
      ],
      "metadata": {
        "colab": {
          "base_uri": "https://localhost:8080/"
        },
        "id": "MFIFxUsHLx8s",
        "outputId": "1f4f1fc3-43e7-48d1-df4a-994e0cd5bd4e"
      },
      "execution_count": 3,
      "outputs": [
        {
          "output_type": "stream",
          "name": "stdout",
          "text": [
            "--2023-04-21 16:44:41--  https://raw.githubusercontent.com/mrdbourke/tensorflow-deep-learning/main/extras/helper_functions.py\n",
            "Resolving raw.githubusercontent.com (raw.githubusercontent.com)... 185.199.108.133, 185.199.109.133, 185.199.110.133, ...\n",
            "Connecting to raw.githubusercontent.com (raw.githubusercontent.com)|185.199.108.133|:443... connected.\n",
            "HTTP request sent, awaiting response... 200 OK\n",
            "Length: 10246 (10K) [text/plain]\n",
            "Saving to: ‘helper_functions.py’\n",
            "\n",
            "\rhelper_functions.py   0%[                    ]       0  --.-KB/s               \rhelper_functions.py 100%[===================>]  10.01K  --.-KB/s    in 0s      \n",
            "\n",
            "2023-04-21 16:44:41 (69.8 MB/s) - ‘helper_functions.py’ saved [10246/10246]\n",
            "\n"
          ]
        }
      ]
    },
    {
      "cell_type": "code",
      "source": [
        "from helper_functions import create_tensorboard_callback, plot_loss_curves, compare_historys"
      ],
      "metadata": {
        "id": "w20lWWykQFas"
      },
      "execution_count": 4,
      "outputs": []
    },
    {
      "cell_type": "markdown",
      "source": [
        "## **USE TENSORFLOW DATASETS TO DOWNLOAD DATA**"
      ],
      "metadata": {
        "id": "9U_w4bWdbIQG"
      }
    },
    {
      "cell_type": "code",
      "source": [
        "import tensorflow_datasets as tfds"
      ],
      "metadata": {
        "id": "dIMPATGmfAs7"
      },
      "execution_count": 5,
      "outputs": []
    },
    {
      "cell_type": "code",
      "source": [
        "datasets_lists = tfds.list_builders()\n",
        "print('food101' in datasets_lists)"
      ],
      "metadata": {
        "colab": {
          "base_uri": "https://localhost:8080/"
        },
        "id": "8qfPncSgfK4I",
        "outputId": "f7b88f8f-fa5e-461b-c5fe-6f9c45486cdd"
      },
      "execution_count": 6,
      "outputs": [
        {
          "output_type": "stream",
          "name": "stdout",
          "text": [
            "True\n"
          ]
        }
      ]
    },
    {
      "cell_type": "code",
      "source": [
        "#load the food101 dataset\n",
        "(train_data, test_data), ds_info = tfds.load(name='food101',\n",
        "                                             split=['train','validation'],\n",
        "                                             shuffle_files=True,\n",
        "                                             as_supervised=True,  #with labels\n",
        "                                             with_info=True)"
      ],
      "metadata": {
        "id": "f5NpsWf5fWo6",
        "colab": {
          "base_uri": "https://localhost:8080/",
          "height": 149,
          "referenced_widgets": [
            "a869ef21ca5945bfb72c87d2114ef396",
            "024b70ff86b9452e8e5ee70dfdde3a75",
            "7bae1c7f1a7c4d7abd5fc2144195bcec",
            "3a439cb1583c4d6ea6fabfa1ce1a4804",
            "307bb5f6aa89431ba18583fce2ed8a6d",
            "9e93aa12d0dc4ca08300e8a6ab7e69bd",
            "5ca3506398f34989a4df9342ed4a3877",
            "c29c8937856b455d8bc7651dcc15d6c0",
            "cfd60a0516cf4971ab8f92b18cf62f77",
            "f7ec62be5d5f47d386ac4eeb56511e94",
            "35deeda5147542eb8e90928193a1ad75",
            "9482d64c8bc941c09b716057aebaa363",
            "45740c258b784ef3ac20338bdda619cd",
            "072da128972b49f9accb89aebd39019f",
            "c993bdff80e244d985a7630ffabcce9e",
            "b33af9c9eb384407bdb33e7dd505eac8",
            "fdb687da1ca9488ea26651f0b881f910",
            "542f6e079c1a41b4b26d0e5efff6d8c5",
            "be4bd0adfb944816a5d2e359d16eaab3",
            "bbf642c2fae146d185a2d9114f8bc8ba",
            "ce628e7829de46c29022369fa236464e",
            "a3eac3b90c3b4fcca513b55139208237",
            "7ab29de1e8cb4bbcb4eef67fe025b578",
            "63608b78eb594da8851230c761f67914",
            "aab79ebca80243e7814f19ccf7d9c6b8",
            "d2e02a83d903443c967c4aaa2322de7c",
            "6a81852273c24ef9b58aad20d461a630",
            "1b70d6b950aa479eab2c2748cd6025f5",
            "5e518a421ffb4df09107d31ead32eda2",
            "c98766789e9d49acbd14fce2e9cca21a",
            "42331216dd8d43959a7857d749e46cbf",
            "8a9d5e79221f48b39743558b423c7c3c",
            "26cfa07c353448529c634490d6ed460a",
            "51446628d67a4c7d9e9ea2a4bb1c16c3",
            "a38666f19a4243de806ddc30e8b25a80",
            "ae77b04c423e4468a14354a559a94862",
            "eafb1aaa9e504e968ad6481acb16b115",
            "ae0f0c194eba4494ba30cc887b625ee3",
            "10dc68971f6140c08c9e94b01a512c05",
            "06cac9cb273540518d35b509771f6c00",
            "71d055829e7f49c2bac0b62ed5ee837c",
            "fbc3880a9016478b9bf43d6e76d89585",
            "19dad71df3c04153bbb9c32c6061ce41",
            "a280ad3354a448389f1c8c17daf7167d",
            "1e91cbbaf6f946ad8dc0bd6dce783b22",
            "c86a06c44e3f4bf9b7d6139d85373395",
            "4bd323cfa7844fc6ad88ab24f2610216",
            "8d4c5a17cf1549ff9712f5362ebdeb62",
            "1454ebfbd9e44e53ad9b49ae08761edb",
            "5ba49022cde846e5aff085339225bee5",
            "3e969c66fc67425f9c21c3830b6bbffc",
            "c454f6dcf330444196107a9e98535693",
            "68a7b4f918534b7f9794a812b3ece79b",
            "b915c4d7a1d642e78707666484e7b494",
            "c71000550b2e4d50be1c394b762ce4b1",
            "05a5588a09144296bbf2033ef75a1d0f",
            "d7e3627645bd489c9255ca6049d917c3",
            "81295919410f400e84482868206fa14d",
            "62658a88e7da4b70946491b097ea3269",
            "0782b5daac6545cb99e410282457b2b5",
            "b62af86a418840efa3100dd0343b1521",
            "abbbefbe45b04b6fb30b17865bf66aef",
            "076914c1467c4616af09c1de608d8747",
            "2593dc4a097e44909bd72d511f7d5143",
            "6e36386e695a48f08b5f45fac2dc647d",
            "b5d4e4d3cf2b44cb9a40bf79a734bf08"
          ]
        },
        "outputId": "d7b50ff2-0d23-4c92-87e4-c10cbbcc6c0e"
      },
      "execution_count": 7,
      "outputs": [
        {
          "output_type": "stream",
          "name": "stdout",
          "text": [
            "Downloading and preparing dataset Unknown size (download: Unknown size, generated: Unknown size, total: Unknown size) to /root/tensorflow_datasets/food101/2.0.0...\n"
          ]
        },
        {
          "output_type": "display_data",
          "data": {
            "text/plain": [
              "Dl Completed...: 0 url [00:00, ? url/s]"
            ],
            "application/vnd.jupyter.widget-view+json": {
              "version_major": 2,
              "version_minor": 0,
              "model_id": "a869ef21ca5945bfb72c87d2114ef396"
            }
          },
          "metadata": {}
        },
        {
          "output_type": "display_data",
          "data": {
            "text/plain": [
              "Dl Size...: 0 MiB [00:00, ? MiB/s]"
            ],
            "application/vnd.jupyter.widget-view+json": {
              "version_major": 2,
              "version_minor": 0,
              "model_id": "9482d64c8bc941c09b716057aebaa363"
            }
          },
          "metadata": {}
        },
        {
          "output_type": "display_data",
          "data": {
            "text/plain": [
              "Extraction completed...: 0 file [00:00, ? file/s]"
            ],
            "application/vnd.jupyter.widget-view+json": {
              "version_major": 2,
              "version_minor": 0,
              "model_id": "7ab29de1e8cb4bbcb4eef67fe025b578"
            }
          },
          "metadata": {}
        },
        {
          "output_type": "display_data",
          "data": {
            "text/plain": [
              "Shuffling /root/tensorflow_datasets/food101/2.0.0.incompleteOMW1X7/food101-train.tfrecord*...:   0%|          …"
            ],
            "application/vnd.jupyter.widget-view+json": {
              "version_major": 2,
              "version_minor": 0,
              "model_id": "51446628d67a4c7d9e9ea2a4bb1c16c3"
            }
          },
          "metadata": {}
        },
        {
          "output_type": "display_data",
          "data": {
            "text/plain": [
              "Generating validation examples...: 0 examples [00:00, ? examples/s]"
            ],
            "application/vnd.jupyter.widget-view+json": {
              "version_major": 2,
              "version_minor": 0,
              "model_id": "1e91cbbaf6f946ad8dc0bd6dce783b22"
            }
          },
          "metadata": {}
        },
        {
          "output_type": "display_data",
          "data": {
            "text/plain": [
              "Shuffling /root/tensorflow_datasets/food101/2.0.0.incompleteOMW1X7/food101-validation.tfrecord*...:   0%|     …"
            ],
            "application/vnd.jupyter.widget-view+json": {
              "version_major": 2,
              "version_minor": 0,
              "model_id": "05a5588a09144296bbf2033ef75a1d0f"
            }
          },
          "metadata": {}
        },
        {
          "output_type": "stream",
          "name": "stdout",
          "text": [
            "Dataset food101 downloaded and prepared to /root/tensorflow_datasets/food101/2.0.0. Subsequent calls will reuse this data.\n"
          ]
        }
      ]
    },
    {
      "cell_type": "markdown",
      "source": [
        "# **EXPLORING THE FOOD101 DATA FROM TENSORFLOW DATASETS**"
      ],
      "metadata": {
        "id": "HtkzObFdrEbk"
      }
    },
    {
      "cell_type": "code",
      "source": [
        "#features of food101 in tfds\n",
        "ds_info.features"
      ],
      "metadata": {
        "id": "I7xsyCT5hFdw",
        "colab": {
          "base_uri": "https://localhost:8080/"
        },
        "outputId": "d87d7a4b-95e7-4e2e-d709-0a4d418a2bc6"
      },
      "execution_count": 8,
      "outputs": [
        {
          "output_type": "execute_result",
          "data": {
            "text/plain": [
              "FeaturesDict({\n",
              "    'image': Image(shape=(None, None, 3), dtype=uint8),\n",
              "    'label': ClassLabel(shape=(), dtype=int64, num_classes=101),\n",
              "})"
            ]
          },
          "metadata": {},
          "execution_count": 8
        }
      ]
    },
    {
      "cell_type": "code",
      "source": [
        "class_names = ds_info.features['label'].names\n",
        "class_names[:10]"
      ],
      "metadata": {
        "id": "0mzVMBxmqPrc",
        "colab": {
          "base_uri": "https://localhost:8080/"
        },
        "outputId": "25b71ff3-1cb2-4604-c345-9fe87c51e374"
      },
      "execution_count": 9,
      "outputs": [
        {
          "output_type": "execute_result",
          "data": {
            "text/plain": [
              "['apple_pie',\n",
              " 'baby_back_ribs',\n",
              " 'baklava',\n",
              " 'beef_carpaccio',\n",
              " 'beef_tartare',\n",
              " 'beet_salad',\n",
              " 'beignets',\n",
              " 'bibimbap',\n",
              " 'bread_pudding',\n",
              " 'breakfast_burrito']"
            ]
          },
          "metadata": {},
          "execution_count": 9
        }
      ]
    },
    {
      "cell_type": "code",
      "source": [
        "train_one_sample = train_data.take(1)\n"
      ],
      "metadata": {
        "id": "s-jgh5zwq6X-"
      },
      "execution_count": 10,
      "outputs": []
    },
    {
      "cell_type": "code",
      "source": [
        "train_one_sample"
      ],
      "metadata": {
        "id": "MKpRDag4r_vH",
        "colab": {
          "base_uri": "https://localhost:8080/"
        },
        "outputId": "e40283f9-f6df-464c-fa33-8eb2c9459a64"
      },
      "execution_count": 11,
      "outputs": [
        {
          "output_type": "execute_result",
          "data": {
            "text/plain": [
              "<_TakeDataset element_spec=(TensorSpec(shape=(None, None, 3), dtype=tf.uint8, name=None), TensorSpec(shape=(), dtype=tf.int64, name=None))>"
            ]
          },
          "metadata": {},
          "execution_count": 11
        }
      ]
    },
    {
      "cell_type": "code",
      "source": [
        "for image, label in train_one_sample:\n",
        "    print(f\"\"\"\n",
        "    Image shape: {image.shape}\n",
        "    Image datatype: {image.dtype}\n",
        "    Target class from Food101(tensor form):{label}\n",
        "    Class name (str form): {class_names[label.numpy()]}\n",
        "    \"\"\")\n"
      ],
      "metadata": {
        "id": "JB6uP_WysBZk",
        "colab": {
          "base_uri": "https://localhost:8080/"
        },
        "outputId": "5b3012eb-00ab-4789-dad6-76227e0ab002"
      },
      "execution_count": 12,
      "outputs": [
        {
          "output_type": "stream",
          "name": "stdout",
          "text": [
            "\n",
            "    Image shape: (512, 288, 3)\n",
            "    Image datatype: <dtype: 'uint8'>\n",
            "    Target class from Food101(tensor form):93\n",
            "    Class name (str form): steak\n",
            "    \n"
          ]
        }
      ]
    },
    {
      "cell_type": "code",
      "source": [
        "import tensorflow as tf\n",
        "tf.reduce_min(image), tf.reduce_max(image)"
      ],
      "metadata": {
        "id": "qgHa66l0s1nt",
        "colab": {
          "base_uri": "https://localhost:8080/"
        },
        "outputId": "9ee06a80-9ab8-4ebe-94aa-f4fc03b07602"
      },
      "execution_count": 13,
      "outputs": [
        {
          "output_type": "execute_result",
          "data": {
            "text/plain": [
              "(<tf.Tensor: shape=(), dtype=uint8, numpy=0>,\n",
              " <tf.Tensor: shape=(), dtype=uint8, numpy=255>)"
            ]
          },
          "metadata": {},
          "execution_count": 13
        }
      ]
    },
    {
      "cell_type": "markdown",
      "source": [
        "#plot an image "
      ],
      "metadata": {
        "id": "Sh1k9oCUtVln"
      }
    },
    {
      "cell_type": "code",
      "source": [
        "import matplotlib.pyplot as plt\n",
        "plt.imshow(image)\n",
        "plt.title(class_names[label.numpy()])\n",
        "plt.axis(False)"
      ],
      "metadata": {
        "id": "IfhQ5nZZtdx2",
        "colab": {
          "base_uri": "https://localhost:8080/",
          "height": 446
        },
        "outputId": "70c43bd2-f2bf-4db0-a3b8-6b96578a4841"
      },
      "execution_count": 14,
      "outputs": [
        {
          "output_type": "execute_result",
          "data": {
            "text/plain": [
              "(-0.5, 287.5, 511.5, -0.5)"
            ]
          },
          "metadata": {},
          "execution_count": 14
        },
        {
          "output_type": "display_data",
          "data": {
            "text/plain": [
              "<Figure size 640x480 with 1 Axes>"
            ],
            "image/png": "[encoded data removed]"
          },
          "metadata": {}
        }
      ]
    },
    {
      "cell_type": "markdown",
      "source": [
        "# **FUNCTION FOR PREPROCESSING IMAGES**"
      ],
      "metadata": {
        "id": "EIN0nqeWtzOV"
      }
    },
    {
      "cell_type": "code",
      "source": [
        "# Make a function for preprocessing images\n",
        "def preprocess_img(image, label, img_shape=224):\n",
        "    \"\"\"\n",
        "    Converts image datatype from 'uint8' -> 'float32' and reshapes image to\n",
        "    [img_shape, img_shape, color_channels]\n",
        "    \"\"\"\n",
        "    image = tf.image.resize(image, [img_shape, img_shape]) # reshape to img_shape\n",
        "    return tf.cast(image, tf.float32), label # return (float32_image, label) tuple"
      ],
      "metadata": {
        "id": "V5goomv_moxm"
      },
      "execution_count": 15,
      "outputs": []
    },
    {
      "cell_type": "code",
      "source": [
        "# Preprocess a single sample image and check the outputs\n",
        "preprocessed_img = preprocess_img(image, label)[0]\n",
        "print(f\"Image before preprocessing:\\n {image[:2]}...,\\nShape: {image.shape},\\nDatatype: {image.dtype}\\n\")\n",
        "print(f\"Image after preprocessing:\\n {preprocessed_img[:2]}...,\\nShape: {preprocessed_img.shape},\\nDatatype: {preprocessed_img.dtype}\")"
      ],
      "metadata": {
        "id": "WEiCvJDanvsx",
        "colab": {
          "base_uri": "https://localhost:8080/"
        },
        "outputId": "52ea54ae-9a12-42df-c779-34f148ef0ae0"
      },
      "execution_count": 16,
      "outputs": [
        {
          "output_type": "stream",
          "name": "stdout",
          "text": [
            "Image before preprocessing:\n",
            " [[[148 103  36]\n",
            "  [147 102  35]\n",
            "  [147 102  35]\n",
            "  ...\n",
            "  [146 111  53]\n",
            "  [146 111  53]\n",
            "  [146 111  53]]\n",
            "\n",
            " [[147 102  35]\n",
            "  [147 102  35]\n",
            "  [148 103  36]\n",
            "  ...\n",
            "  [145 110  52]\n",
            "  [145 110  52]\n",
            "  [145 110  52]]]...,\n",
            "Shape: (512, 288, 3),\n",
            "Datatype: <dtype: 'uint8'>\n",
            "\n",
            "Image after preprocessing:\n",
            " [[[147.30612  102.30612   35.30612 ]\n",
            "  [147.27551  102.27551   35.27551 ]\n",
            "  [148.61224  103.61224   36.612244]\n",
            "  ...\n",
            "  [145.61224  110.61225   52.612247]\n",
            "  [145.35715  110.35714   52.357143]\n",
            "  [145.35715  110.35714   52.357143]]\n",
            "\n",
            " [[142.34694   97.34694   30.34694 ]\n",
            "  [144.85715   99.85714   32.42857 ]\n",
            "  [146.       101.        33.      ]\n",
            "  ...\n",
            "  [144.14285  109.14285   53.142857]\n",
            "  [144.14285  109.14285   53.142857]\n",
            "  [143.2857   108.285706  52.28571 ]]]...,\n",
            "Shape: (224, 224, 3),\n",
            "Datatype: <dtype: 'float32'>\n"
          ]
        }
      ]
    },
    {
      "cell_type": "code",
      "source": [
        "# We can still plot our preprocessed image as long as we \n",
        "# divide by 255 (for matplotlib capatibility)\n",
        "plt.imshow(preprocessed_img/255.)\n",
        "plt.title(class_names[label])\n",
        "plt.axis(False);"
      ],
      "metadata": {
        "colab": {
          "base_uri": "https://localhost:8080/",
          "height": 428
        },
        "id": "l-gwUw07DCqS",
        "outputId": "b8247ef1-1c8b-4f33-bbae-c1bbf792491d"
      },
      "execution_count": 17,
      "outputs": [
        {
          "output_type": "display_data",
          "data": {
            "text/plain": [
              "<Figure size 640x480 with 1 Axes>"
            ],
            "image/png": "[encoded data removed]"
          },
          "metadata": {}
        }
      ]
    },
    {
      "cell_type": "code",
      "source": [],
      "metadata": {
        "id": "L9Z7lmn2pHGF"
      },
      "execution_count": 17,
      "outputs": []
    },
    {
      "cell_type": "code",
      "source": [
        "# Map preprocessing function to training data (and paralellize)\n",
        "train_data = train_data.map(map_func=preprocess_img, num_parallel_calls=tf.data.AUTOTUNE)\n",
        "# Shuffle train_data and turn it into batches and prefetch it (load it faster)\n",
        "train_data = train_data.shuffle(buffer_size=1000).batch(batch_size=32).prefetch(buffer_size=tf.data.AUTOTUNE)\n",
        "\n",
        "# Map prepreprocessing function to test data\n",
        "test_data = test_data.map(preprocess_img, num_parallel_calls=tf.data.AUTOTUNE)\n",
        "# Turn test data into batches (don't need to shuffle)\n",
        "test_data = test_data.batch(32).prefetch(tf.data.AUTOTUNE)"
      ],
      "metadata": {
        "id": "d2XPSQoQtdir"
      },
      "execution_count": 18,
      "outputs": []
    },
    {
      "cell_type": "code",
      "source": [
        "train_data, test_data"
      ],
      "metadata": {
        "id": "8lEYx7OP0g35",
        "colab": {
          "base_uri": "https://localhost:8080/"
        },
        "outputId": "e363646d-19db-4256-b778-3298ae0b13fb"
      },
      "execution_count": 19,
      "outputs": [
        {
          "output_type": "execute_result",
          "data": {
            "text/plain": [
              "(<_PrefetchDataset element_spec=(TensorSpec(shape=(None, 224, 224, 3), dtype=tf.float32, name=None), TensorSpec(shape=(None,), dtype=tf.int64, name=None))>,\n",
              " <_PrefetchDataset element_spec=(TensorSpec(shape=(None, 224, 224, 3), dtype=tf.float32, name=None), TensorSpec(shape=(None,), dtype=tf.int64, name=None))>)"
            ]
          },
          "metadata": {},
          "execution_count": 19
        }
      ]
    },
    {
      "cell_type": "markdown",
      "source": [
        "# **CREATRING MODEL CALLBACKS**"
      ],
      "metadata": {
        "id": "XBA5WXUe0kxH"
      }
    },
    {
      "cell_type": "code",
      "source": [
        "# Create TensorBoard callback (already have \"create_tensorboard_callback()\" from a previous notebook)\n",
        "from helper_functions import create_tensorboard_callback\n",
        "\n",
        "# Create ModelCheckpoint callback to save model's progress\n",
        "checkpoint_path = \"model_checkpoints/cp.ckpt\" # saving weights requires \".ckpt\" extension\n",
        "model_checkpoint = tf.keras.callbacks.ModelCheckpoint(checkpoint_path,\n",
        "                                                      monitor=\"val_accuracy\", # save the model weights with best validation accuracy\n",
        "                                                      save_best_only=True, # only save the best weights\n",
        "                                                      save_weights_only=True, # only save model weights (not whole model)\n",
        "                                                      verbose=0) # don't print out whether or not model is being saved "
      ],
      "metadata": {
        "id": "Dg_mfk-P0vbU"
      },
      "execution_count": 20,
      "outputs": []
    },
    {
      "cell_type": "markdown",
      "source": [
        "# **SETUP MIXED PRECISION TRAINING**"
      ],
      "metadata": {
        "id": "NBsuiVRE011N"
      }
    },
    {
      "cell_type": "code",
      "source": [
        "# Turn on mixed precision training\n",
        "from tensorflow.keras import mixed_precision\n",
        "mixed_precision.set_global_policy(policy=\"mixed_float16\")"
      ],
      "metadata": {
        "id": "syp1Bioh4133",
        "colab": {
          "base_uri": "https://localhost:8080/"
        },
        "outputId": "6b948895-e1c7-4ae0-8e15-84f69956d58c"
      },
      "execution_count": 21,
      "outputs": [
        {
          "output_type": "stream",
          "name": "stderr",
          "text": [
            "WARNING:tensorflow:Mixed precision compatibility check (mixed_float16): WARNING\n",
            "The dtype policy mixed_float16 may run slowly because this machine does not have a GPU. Only Nvidia GPUs with compute capability of at least 7.0 run quickly with mixed_float16.\n",
            "If you will use compatible GPU(s) not attached to this host, e.g. by running a multi-worker model, you can ignore this warning. This message will only be logged once\n"
          ]
        }
      ]
    },
    {
      "cell_type": "code",
      "source": [
        "mixed_precision.global_policy()"
      ],
      "metadata": {
        "id": "fVrv5gTS4-Ys",
        "colab": {
          "base_uri": "https://localhost:8080/"
        },
        "outputId": "d2f17166-3330-4519-8906-040db6d2a74e"
      },
      "execution_count": 22,
      "outputs": [
        {
          "output_type": "execute_result",
          "data": {
            "text/plain": [
              "<Policy \"mixed_float16\">"
            ]
          },
          "metadata": {},
          "execution_count": 22
        }
      ]
    },
    {
      "cell_type": "markdown",
      "source": [
        "# **BUILDING A FEATURE EXTRACTION MODEL**\n"
      ],
      "metadata": {
        "id": "fak65PZb5CjQ"
      }
    },
    {
      "cell_type": "code",
      "source": [
        "from tensorflow.keras import layers\n",
        "\n",
        "# Create base model\n",
        "input_shape = (224, 224, 3)\n",
        "base_model = tf.keras.applications.EfficientNetB0(include_top=False)\n",
        "base_model.trainable = False # freeze base model layers\n",
        "\n",
        "# Create Functional model \n",
        "inputs = layers.Input(shape=input_shape, name=\"input_layer\")\n",
        "# Note: EfficientNetBX models have rescaling built-in but if your model didn't you could have a layer like below\n",
        "# x = layers.Rescaling(1./255)(x)\n",
        "x = base_model(inputs, training=False) # set base_model to inference mode only\n",
        "x = layers.GlobalAveragePooling2D(name=\"pooling_layer\")(x)\n",
        "x = layers.Dense(len(class_names))(x) # want one output neuron per class \n",
        "# Separate activation of output layer so we can output float32 activations\n",
        "outputs = layers.Activation(\"softmax\", dtype=tf.float32, name=\"softmax_float32\")(x) \n",
        "model = tf.keras.Model(inputs, outputs)\n",
        "\n",
        "# Compile the model\n",
        "model.compile(loss=\"sparse_categorical_crossentropy\", # Use sparse_categorical_crossentropy when labels are *not* one-hot\n",
        "              optimizer=tf.keras.optimizers.Adam(),\n",
        "              metrics=[\"accuracy\"])"
      ],
      "metadata": {
        "id": "XounU5U59nd6"
      },
      "execution_count": 22,
      "outputs": []
    },
    {
      "cell_type": "code",
      "source": [
        "model.summary()"
      ],
      "metadata": {
        "colab": {
          "base_uri": "https://localhost:8080/"
        },
        "id": "i536VdEh_vIN",
        "outputId": "357d735e-c97d-4810-d2a4-70aacd518932"
      },
      "execution_count": 23,
      "outputs": [
        {
          "output_type": "stream",
          "name": "stdout",
          "text": [
            "Model: \"model\"\n",
            "_________________________________________________________________\n",
            " Layer (type)                Output Shape              Param #   \n",
            "=================================================================\n",
            " input_layer (InputLayer)    [(None, 224, 224, 3)]     0         \n",
            "                                                                 \n",
            " efficientnetb0 (Functional)  (None, None, None, 1280)  4049571  \n",
            "                                                                 \n",
            " pooling_layer (GlobalAverag  (None, 1280)             0         \n",
            " ePooling2D)                                                     \n",
            "                                                                 \n",
            " dense (Dense)               (None, 101)               129381    \n",
            "                                                                 \n",
            " softmax_float32 (Activation  (None, 101)              0         \n",
            " )                                                               \n",
            "                                                                 \n",
            "=================================================================\n",
            "Total params: 4,178,952\n",
            "Trainable params: 129,381\n",
            "Non-trainable params: 4,049,571\n",
            "_________________________________________________________________\n"
          ]
        }
      ]
    },
    {
      "cell_type": "code",
      "source": [
        "for layer in model.layers:\n",
        "    print(layer.name, layer.trainable, layer.dtype)\n"
      ],
      "metadata": {
        "colab": {
          "base_uri": "https://localhost:8080/"
        },
        "id": "WGfEjJ43AeT5",
        "outputId": "7f8f4bbf-1e2f-4d7b-aab5-99cf16a12e37"
      },
      "execution_count": 24,
      "outputs": [
        {
          "output_type": "stream",
          "name": "stdout",
          "text": [
            "input_layer True float32\n",
            "efficientnetb0 False float32\n",
            "pooling_layer True float32\n",
            "dense True float32\n",
            "softmax_float32 True float32\n"
          ]
        }
      ]
    },
    {
      "cell_type": "code",
      "source": [
        "# Check the layers in the base model and see what dtype policy they're using\n",
        "for layer in model.layers[1].layers[:20]: # only check the first 20 layers to save output space\n",
        "    print(layer.name, layer.trainable, layer.dtype, layer.dtype_policy)"
      ],
      "metadata": {
        "colab": {
          "base_uri": "https://localhost:8080/"
        },
        "id": "yvYuOBklBd7n",
        "outputId": "d933b3f6-8f79-45d4-d6ad-e91306e240f1"
      },
      "execution_count": 25,
      "outputs": [
        {
          "output_type": "stream",
          "name": "stdout",
          "text": [
            "input_1 False float32 <Policy \"float32\">\n",
            "rescaling False float32 <Policy \"mixed_float16\">\n",
            "normalization False float32 <Policy \"mixed_float16\">\n",
            "rescaling_1 False float32 <Policy \"mixed_float16\">\n",
            "stem_conv_pad False float32 <Policy \"mixed_float16\">\n",
            "stem_conv False float32 <Policy \"mixed_float16\">\n",
            "stem_bn False float32 <Policy \"mixed_float16\">\n",
            "stem_activation False float32 <Policy \"mixed_float16\">\n",
            "block1a_dwconv False float32 <Policy \"mixed_float16\">\n",
            "block1a_bn False float32 <Policy \"mixed_float16\">\n",
            "block1a_activation False float32 <Policy \"mixed_float16\">\n",
            "block1a_se_squeeze False float32 <Policy \"mixed_float16\">\n",
            "block1a_se_reshape False float32 <Policy \"mixed_float16\">\n",
            "block1a_se_reduce False float32 <Policy \"mixed_float16\">\n",
            "block1a_se_expand False float32 <Policy \"mixed_float16\">\n",
            "block1a_se_excite False float32 <Policy \"mixed_float16\">\n",
            "block1a_project_conv False float32 <Policy \"mixed_float16\">\n",
            "block1a_project_bn False float32 <Policy \"mixed_float16\">\n",
            "block2a_expand_conv False float32 <Policy \"mixed_float16\">\n",
            "block2a_expand_bn False float32 <Policy \"mixed_float16\">\n"
          ]
        }
      ]
    },
    {
      "cell_type": "code",
      "source": [
        "# Turn off all warnings except for errors\n",
        "tf.get_logger().setLevel('ERROR')\n",
        "\n",
        "# Fit the model with callbacks\n",
        "history_101_food_classes_feature_extract = model.fit(train_data, \n",
        "                                                     epochs=3,\n",
        "                                                     steps_per_epoch=len(train_data),\n",
        "                                                     validation_data=test_data,\n",
        "                                                     validation_steps=int(0.15 * len(test_data)),\n",
        "                                                     callbacks=[create_tensorboard_callback(\"training_logs\", \n",
        "                                                                                            \"efficientnetb0_101_classes_all_data_feature_extract\"),\n",
        "                                                                model_checkpoint])"
      ],
      "metadata": {
        "colab": {
          "base_uri": "https://localhost:8080/"
        },
        "id": "JgOdBTCpBv7r",
        "outputId": "7ef3d59a-9194-485c-ab37-e2c3f1757ac3"
      },
      "execution_count": 26,
      "outputs": [
        {
          "output_type": "stream",
          "name": "stdout",
          "text": [
            "Saving TensorBoard log files to: training_logs/efficientnetb0_101_classes_all_data_feature_extract/20230421-135404\n",
            "Epoch 1/3\n",
            "2368/2368 [==============================] - 209s 80ms/step - loss: 1.7170 - accuracy: 0.5817 - val_loss: 1.1391 - val_accuracy: 0.6962\n",
            "Epoch 2/3\n",
            "2368/2368 [==============================] - 192s 80ms/step - loss: 1.1997 - accuracy: 0.6885 - val_loss: 1.0414 - val_accuracy: 0.7177\n",
            "Epoch 3/3\n",
            "2368/2368 [==============================] - 178s 74ms/step - loss: 1.0538 - accuracy: 0.7228 - val_loss: 0.9952 - val_accuracy: 0.7230\n"
          ]
        }
      ]
    },
    {
      "cell_type": "code",
      "source": [
        "results_feature_extract_model = model.evaluate(test_data)\n",
        "results_feature_extract_model"
      ],
      "metadata": {
        "colab": {
          "base_uri": "https://localhost:8080/"
        },
        "id": "1RLWcKKnGK2y",
        "outputId": "8d987e04-0e62-4fb5-f8e2-fd1915ee4079"
      },
      "execution_count": 27,
      "outputs": [
        {
          "output_type": "stream",
          "name": "stdout",
          "text": [
            "790/790 [==============================] - 54s 69ms/step - loss: 0.9960 - accuracy: 0.7293\n"
          ]
        },
        {
          "output_type": "execute_result",
          "data": {
            "text/plain": [
              "[0.9960492849349976, 0.7293069362640381]"
            ]
          },
          "metadata": {},
          "execution_count": 27
        }
      ]
    },
    {
      "cell_type": "markdown",
      "source": [
        "# **FINETUNE MODEL**"
      ],
      "metadata": {
        "id": "o38EK50PPeLb"
      }
    },
    {
      "cell_type": "code",
      "source": [
        "for layer_number, layer in enumerate(base_model.layers):\n",
        "    print(layer_number, layer.name, layer.trainable)"
      ],
      "metadata": {
        "colab": {
          "base_uri": "https://localhost:8080/"
        },
        "id": "8dhX9wA8CDnI",
        "outputId": "4ea10c01-3b6f-4468-bf16-8ec2151a00bd"
      },
      "execution_count": 29,
      "outputs": [
        {
          "output_type": "stream",
          "name": "stdout",
          "text": [
            "0 input_1 False\n",
            "1 rescaling False\n",
            "2 normalization False\n",
            "3 rescaling_1 False\n",
            "4 stem_conv_pad False\n",
            "5 stem_conv False\n",
            "6 stem_bn False\n",
            "7 stem_activation False\n",
            "8 block1a_dwconv False\n",
            "9 block1a_bn False\n",
            "10 block1a_activation False\n",
            "11 block1a_se_squeeze False\n",
            "12 block1a_se_reshape False\n",
            "13 block1a_se_reduce False\n",
            "14 block1a_se_expand False\n",
            "15 block1a_se_excite False\n",
            "16 block1a_project_conv False\n",
            "17 block1a_project_bn False\n",
            "18 block2a_expand_conv False\n",
            "19 block2a_expand_bn False\n",
            "20 block2a_expand_activation False\n",
            "21 block2a_dwconv_pad False\n",
            "22 block2a_dwconv False\n",
            "23 block2a_bn False\n",
            "24 block2a_activation False\n",
            "25 block2a_se_squeeze False\n",
            "26 block2a_se_reshape False\n",
            "27 block2a_se_reduce False\n",
            "28 block2a_se_expand False\n",
            "29 block2a_se_excite False\n",
            "30 block2a_project_conv False\n",
            "31 block2a_project_bn False\n",
            "32 block2b_expand_conv False\n",
            "33 block2b_expand_bn False\n",
            "34 block2b_expand_activation False\n",
            "35 block2b_dwconv False\n",
            "36 block2b_bn False\n",
            "37 block2b_activation False\n",
            "38 block2b_se_squeeze False\n",
            "39 block2b_se_reshape False\n",
            "40 block2b_se_reduce False\n",
            "41 block2b_se_expand False\n",
            "42 block2b_se_excite False\n",
            "43 block2b_project_conv False\n",
            "44 block2b_project_bn False\n",
            "45 block2b_drop False\n",
            "46 block2b_add False\n",
            "47 block3a_expand_conv False\n",
            "48 block3a_expand_bn False\n",
            "49 block3a_expand_activation False\n",
            "50 block3a_dwconv_pad False\n",
            "51 block3a_dwconv False\n",
            "52 block3a_bn False\n",
            "53 block3a_activation False\n",
            "54 block3a_se_squeeze False\n",
            "55 block3a_se_reshape False\n",
            "56 block3a_se_reduce False\n",
            "57 block3a_se_expand False\n",
            "58 block3a_se_excite False\n",
            "59 block3a_project_conv False\n",
            "60 block3a_project_bn False\n",
            "61 block3b_expand_conv False\n",
            "62 block3b_expand_bn False\n",
            "63 block3b_expand_activation False\n",
            "64 block3b_dwconv False\n",
            "65 block3b_bn False\n",
            "66 block3b_activation False\n",
            "67 block3b_se_squeeze False\n",
            "68 block3b_se_reshape False\n",
            "69 block3b_se_reduce False\n",
            "70 block3b_se_expand False\n",
            "71 block3b_se_excite False\n",
            "72 block3b_project_conv False\n",
            "73 block3b_project_bn False\n",
            "74 block3b_drop False\n",
            "75 block3b_add False\n",
            "76 block4a_expand_conv False\n",
            "77 block4a_expand_bn False\n",
            "78 block4a_expand_activation False\n",
            "79 block4a_dwconv_pad False\n",
            "80 block4a_dwconv False\n",
            "81 block4a_bn False\n",
            "82 block4a_activation False\n",
            "83 block4a_se_squeeze False\n",
            "84 block4a_se_reshape False\n",
            "85 block4a_se_reduce False\n",
            "86 block4a_se_expand False\n",
            "87 block4a_se_excite False\n",
            "88 block4a_project_conv False\n",
            "89 block4a_project_bn False\n",
            "90 block4b_expand_conv False\n",
            "91 block4b_expand_bn False\n",
            "92 block4b_expand_activation False\n",
            "93 block4b_dwconv False\n",
            "94 block4b_bn False\n",
            "95 block4b_activation False\n",
            "96 block4b_se_squeeze False\n",
            "97 block4b_se_reshape False\n",
            "98 block4b_se_reduce False\n",
            "99 block4b_se_expand False\n",
            "100 block4b_se_excite False\n",
            "101 block4b_project_conv False\n",
            "102 block4b_project_bn False\n",
            "103 block4b_drop False\n",
            "104 block4b_add False\n",
            "105 block4c_expand_conv False\n",
            "106 block4c_expand_bn False\n",
            "107 block4c_expand_activation False\n",
            "108 block4c_dwconv False\n",
            "109 block4c_bn False\n",
            "110 block4c_activation False\n",
            "111 block4c_se_squeeze False\n",
            "112 block4c_se_reshape False\n",
            "113 block4c_se_reduce False\n",
            "114 block4c_se_expand False\n",
            "115 block4c_se_excite False\n",
            "116 block4c_project_conv False\n",
            "117 block4c_project_bn False\n",
            "118 block4c_drop False\n",
            "119 block4c_add False\n",
            "120 block5a_expand_conv False\n",
            "121 block5a_expand_bn False\n",
            "122 block5a_expand_activation False\n",
            "123 block5a_dwconv False\n",
            "124 block5a_bn False\n",
            "125 block5a_activation False\n",
            "126 block5a_se_squeeze False\n",
            "127 block5a_se_reshape False\n",
            "128 block5a_se_reduce False\n",
            "129 block5a_se_expand False\n",
            "130 block5a_se_excite False\n",
            "131 block5a_project_conv False\n",
            "132 block5a_project_bn False\n",
            "133 block5b_expand_conv False\n",
            "134 block5b_expand_bn False\n",
            "135 block5b_expand_activation False\n",
            "136 block5b_dwconv False\n",
            "137 block5b_bn False\n",
            "138 block5b_activation False\n",
            "139 block5b_se_squeeze False\n",
            "140 block5b_se_reshape False\n",
            "141 block5b_se_reduce False\n",
            "142 block5b_se_expand False\n",
            "143 block5b_se_excite False\n",
            "144 block5b_project_conv False\n",
            "145 block5b_project_bn False\n",
            "146 block5b_drop False\n",
            "147 block5b_add False\n",
            "148 block5c_expand_conv False\n",
            "149 block5c_expand_bn False\n",
            "150 block5c_expand_activation False\n",
            "151 block5c_dwconv False\n",
            "152 block5c_bn False\n",
            "153 block5c_activation False\n",
            "154 block5c_se_squeeze False\n",
            "155 block5c_se_reshape False\n",
            "156 block5c_se_reduce False\n",
            "157 block5c_se_expand False\n",
            "158 block5c_se_excite False\n",
            "159 block5c_project_conv False\n",
            "160 block5c_project_bn False\n",
            "161 block5c_drop False\n",
            "162 block5c_add False\n",
            "163 block6a_expand_conv False\n",
            "164 block6a_expand_bn False\n",
            "165 block6a_expand_activation False\n",
            "166 block6a_dwconv_pad False\n",
            "167 block6a_dwconv False\n",
            "168 block6a_bn False\n",
            "169 block6a_activation False\n",
            "170 block6a_se_squeeze False\n",
            "171 block6a_se_reshape False\n",
            "172 block6a_se_reduce False\n",
            "173 block6a_se_expand False\n",
            "174 block6a_se_excite False\n",
            "175 block6a_project_conv False\n",
            "176 block6a_project_bn False\n",
            "177 block6b_expand_conv False\n",
            "178 block6b_expand_bn False\n",
            "179 block6b_expand_activation False\n",
            "180 block6b_dwconv False\n",
            "181 block6b_bn False\n",
            "182 block6b_activation False\n",
            "183 block6b_se_squeeze False\n",
            "184 block6b_se_reshape False\n",
            "185 block6b_se_reduce False\n",
            "186 block6b_se_expand False\n",
            "187 block6b_se_excite False\n",
            "188 block6b_project_conv False\n",
            "189 block6b_project_bn False\n",
            "190 block6b_drop False\n",
            "191 block6b_add False\n",
            "192 block6c_expand_conv False\n",
            "193 block6c_expand_bn False\n",
            "194 block6c_expand_activation False\n",
            "195 block6c_dwconv False\n",
            "196 block6c_bn False\n",
            "197 block6c_activation False\n",
            "198 block6c_se_squeeze False\n",
            "199 block6c_se_reshape False\n",
            "200 block6c_se_reduce False\n",
            "201 block6c_se_expand False\n",
            "202 block6c_se_excite False\n",
            "203 block6c_project_conv False\n",
            "204 block6c_project_bn False\n",
            "205 block6c_drop False\n",
            "206 block6c_add False\n",
            "207 block6d_expand_conv False\n",
            "208 block6d_expand_bn False\n",
            "209 block6d_expand_activation False\n",
            "210 block6d_dwconv False\n",
            "211 block6d_bn False\n",
            "212 block6d_activation False\n",
            "213 block6d_se_squeeze False\n",
            "214 block6d_se_reshape False\n",
            "215 block6d_se_reduce False\n",
            "216 block6d_se_expand False\n",
            "217 block6d_se_excite False\n",
            "218 block6d_project_conv False\n",
            "219 block6d_project_bn False\n",
            "220 block6d_drop False\n",
            "221 block6d_add False\n",
            "222 block7a_expand_conv False\n",
            "223 block7a_expand_bn False\n",
            "224 block7a_expand_activation False\n",
            "225 block7a_dwconv False\n",
            "226 block7a_bn False\n",
            "227 block7a_activation False\n",
            "228 block7a_se_squeeze False\n",
            "229 block7a_se_reshape False\n",
            "230 block7a_se_reduce False\n",
            "231 block7a_se_expand False\n",
            "232 block7a_se_excite False\n",
            "233 block7a_project_conv False\n",
            "234 block7a_project_bn False\n",
            "235 top_conv False\n",
            "236 top_bn False\n",
            "237 top_activation False\n"
          ]
        }
      ]
    },
    {
      "cell_type": "code",
      "source": [
        "base_model.trainable = True\n",
        "\n",
        "for layer in base_model.layers[:-10]:\n",
        "    layer.trainable = False\n",
        "\n",
        "model.compile(loss=\"sparse_categorical_crossentropy\",\n",
        "              optimizer=tf.keras.optimizers.Adam(lr=0.0001), # lr is 10x lower than before for fine-tuning\n",
        "              metrics=[\"accuracy\"])"
      ],
      "metadata": {
        "colab": {
          "base_uri": "https://localhost:8080/"
        },
        "id": "Fd8z6W1tMCmP",
        "outputId": "5b577753-6aee-4abd-af50-04128f0bc5c9"
      },
      "execution_count": 34,
      "outputs": [
        {
          "output_type": "stream",
          "name": "stderr",
          "text": [
            "WARNING:absl:`lr` is deprecated in Keras optimizer, please use `learning_rate` or use the legacy optimizer, e.g.,tf.keras.optimizers.legacy.Adam.\n"
          ]
        }
      ]
    },
    {
      "cell_type": "code",
      "source": [
        "for layer_number, layer in enumerate(base_model.layers):\n",
        "  print(layer_number, layer.name, layer.trainable)"
      ],
      "metadata": {
        "colab": {
          "base_uri": "https://localhost:8080/"
        },
        "id": "k49AE9cLNfRr",
        "outputId": "709a999b-f74d-4bf9-ff94-d1221b892f2b"
      },
      "execution_count": 35,
      "outputs": [
        {
          "output_type": "stream",
          "name": "stdout",
          "text": [
            "0 input_1 False\n",
            "1 rescaling False\n",
            "2 normalization False\n",
            "3 rescaling_1 False\n",
            "4 stem_conv_pad False\n",
            "5 stem_conv False\n",
            "6 stem_bn False\n",
            "7 stem_activation False\n",
            "8 block1a_dwconv False\n",
            "9 block1a_bn False\n",
            "10 block1a_activation False\n",
            "11 block1a_se_squeeze False\n",
            "12 block1a_se_reshape False\n",
            "13 block1a_se_reduce False\n",
            "14 block1a_se_expand False\n",
            "15 block1a_se_excite False\n",
            "16 block1a_project_conv False\n",
            "17 block1a_project_bn False\n",
            "18 block2a_expand_conv False\n",
            "19 block2a_expand_bn False\n",
            "20 block2a_expand_activation False\n",
            "21 block2a_dwconv_pad False\n",
            "22 block2a_dwconv False\n",
            "23 block2a_bn False\n",
            "24 block2a_activation False\n",
            "25 block2a_se_squeeze False\n",
            "26 block2a_se_reshape False\n",
            "27 block2a_se_reduce False\n",
            "28 block2a_se_expand False\n",
            "29 block2a_se_excite False\n",
            "30 block2a_project_conv False\n",
            "31 block2a_project_bn False\n",
            "32 block2b_expand_conv False\n",
            "33 block2b_expand_bn False\n",
            "34 block2b_expand_activation False\n",
            "35 block2b_dwconv False\n",
            "36 block2b_bn False\n",
            "37 block2b_activation False\n",
            "38 block2b_se_squeeze False\n",
            "39 block2b_se_reshape False\n",
            "40 block2b_se_reduce False\n",
            "41 block2b_se_expand False\n",
            "42 block2b_se_excite False\n",
            "43 block2b_project_conv False\n",
            "44 block2b_project_bn False\n",
            "45 block2b_drop False\n",
            "46 block2b_add False\n",
            "47 block3a_expand_conv False\n",
            "48 block3a_expand_bn False\n",
            "49 block3a_expand_activation False\n",
            "50 block3a_dwconv_pad False\n",
            "51 block3a_dwconv False\n",
            "52 block3a_bn False\n",
            "53 block3a_activation False\n",
            "54 block3a_se_squeeze False\n",
            "55 block3a_se_reshape False\n",
            "56 block3a_se_reduce False\n",
            "57 block3a_se_expand False\n",
            "58 block3a_se_excite False\n",
            "59 block3a_project_conv False\n",
            "60 block3a_project_bn False\n",
            "61 block3b_expand_conv False\n",
            "62 block3b_expand_bn False\n",
            "63 block3b_expand_activation False\n",
            "64 block3b_dwconv False\n",
            "65 block3b_bn False\n",
            "66 block3b_activation False\n",
            "67 block3b_se_squeeze False\n",
            "68 block3b_se_reshape False\n",
            "69 block3b_se_reduce False\n",
            "70 block3b_se_expand False\n",
            "71 block3b_se_excite False\n",
            "72 block3b_project_conv False\n",
            "73 block3b_project_bn False\n",
            "74 block3b_drop False\n",
            "75 block3b_add False\n",
            "76 block4a_expand_conv False\n",
            "77 block4a_expand_bn False\n",
            "78 block4a_expand_activation False\n",
            "79 block4a_dwconv_pad False\n",
            "80 block4a_dwconv False\n",
            "81 block4a_bn False\n",
            "82 block4a_activation False\n",
            "83 block4a_se_squeeze False\n",
            "84 block4a_se_reshape False\n",
            "85 block4a_se_reduce False\n",
            "86 block4a_se_expand False\n",
            "87 block4a_se_excite False\n",
            "88 block4a_project_conv False\n",
            "89 block4a_project_bn False\n",
            "90 block4b_expand_conv False\n",
            "91 block4b_expand_bn False\n",
            "92 block4b_expand_activation False\n",
            "93 block4b_dwconv False\n",
            "94 block4b_bn False\n",
            "95 block4b_activation False\n",
            "96 block4b_se_squeeze False\n",
            "97 block4b_se_reshape False\n",
            "98 block4b_se_reduce False\n",
            "99 block4b_se_expand False\n",
            "100 block4b_se_excite False\n",
            "101 block4b_project_conv False\n",
            "102 block4b_project_bn False\n",
            "103 block4b_drop False\n",
            "104 block4b_add False\n",
            "105 block4c_expand_conv False\n",
            "106 block4c_expand_bn False\n",
            "107 block4c_expand_activation False\n",
            "108 block4c_dwconv False\n",
            "109 block4c_bn False\n",
            "110 block4c_activation False\n",
            "111 block4c_se_squeeze False\n",
            "112 block4c_se_reshape False\n",
            "113 block4c_se_reduce False\n",
            "114 block4c_se_expand False\n",
            "115 block4c_se_excite False\n",
            "116 block4c_project_conv False\n",
            "117 block4c_project_bn False\n",
            "118 block4c_drop False\n",
            "119 block4c_add False\n",
            "120 block5a_expand_conv False\n",
            "121 block5a_expand_bn False\n",
            "122 block5a_expand_activation False\n",
            "123 block5a_dwconv False\n",
            "124 block5a_bn False\n",
            "125 block5a_activation False\n",
            "126 block5a_se_squeeze False\n",
            "127 block5a_se_reshape False\n",
            "128 block5a_se_reduce False\n",
            "129 block5a_se_expand False\n",
            "130 block5a_se_excite False\n",
            "131 block5a_project_conv False\n",
            "132 block5a_project_bn False\n",
            "133 block5b_expand_conv False\n",
            "134 block5b_expand_bn False\n",
            "135 block5b_expand_activation False\n",
            "136 block5b_dwconv False\n",
            "137 block5b_bn False\n",
            "138 block5b_activation False\n",
            "139 block5b_se_squeeze False\n",
            "140 block5b_se_reshape False\n",
            "141 block5b_se_reduce False\n",
            "142 block5b_se_expand False\n",
            "143 block5b_se_excite False\n",
            "144 block5b_project_conv False\n",
            "145 block5b_project_bn False\n",
            "146 block5b_drop False\n",
            "147 block5b_add False\n",
            "148 block5c_expand_conv False\n",
            "149 block5c_expand_bn False\n",
            "150 block5c_expand_activation False\n",
            "151 block5c_dwconv False\n",
            "152 block5c_bn False\n",
            "153 block5c_activation False\n",
            "154 block5c_se_squeeze False\n",
            "155 block5c_se_reshape False\n",
            "156 block5c_se_reduce False\n",
            "157 block5c_se_expand False\n",
            "158 block5c_se_excite False\n",
            "159 block5c_project_conv False\n",
            "160 block5c_project_bn False\n",
            "161 block5c_drop False\n",
            "162 block5c_add False\n",
            "163 block6a_expand_conv False\n",
            "164 block6a_expand_bn False\n",
            "165 block6a_expand_activation False\n",
            "166 block6a_dwconv_pad False\n",
            "167 block6a_dwconv False\n",
            "168 block6a_bn False\n",
            "169 block6a_activation False\n",
            "170 block6a_se_squeeze False\n",
            "171 block6a_se_reshape False\n",
            "172 block6a_se_reduce False\n",
            "173 block6a_se_expand False\n",
            "174 block6a_se_excite False\n",
            "175 block6a_project_conv False\n",
            "176 block6a_project_bn False\n",
            "177 block6b_expand_conv False\n",
            "178 block6b_expand_bn False\n",
            "179 block6b_expand_activation False\n",
            "180 block6b_dwconv False\n",
            "181 block6b_bn False\n",
            "182 block6b_activation False\n",
            "183 block6b_se_squeeze False\n",
            "184 block6b_se_reshape False\n",
            "185 block6b_se_reduce False\n",
            "186 block6b_se_expand False\n",
            "187 block6b_se_excite False\n",
            "188 block6b_project_conv False\n",
            "189 block6b_project_bn False\n",
            "190 block6b_drop False\n",
            "191 block6b_add False\n",
            "192 block6c_expand_conv False\n",
            "193 block6c_expand_bn False\n",
            "194 block6c_expand_activation False\n",
            "195 block6c_dwconv False\n",
            "196 block6c_bn False\n",
            "197 block6c_activation False\n",
            "198 block6c_se_squeeze False\n",
            "199 block6c_se_reshape False\n",
            "200 block6c_se_reduce False\n",
            "201 block6c_se_expand False\n",
            "202 block6c_se_excite False\n",
            "203 block6c_project_conv False\n",
            "204 block6c_project_bn False\n",
            "205 block6c_drop False\n",
            "206 block6c_add False\n",
            "207 block6d_expand_conv False\n",
            "208 block6d_expand_bn False\n",
            "209 block6d_expand_activation False\n",
            "210 block6d_dwconv False\n",
            "211 block6d_bn False\n",
            "212 block6d_activation False\n",
            "213 block6d_se_squeeze False\n",
            "214 block6d_se_reshape False\n",
            "215 block6d_se_reduce False\n",
            "216 block6d_se_expand False\n",
            "217 block6d_se_excite False\n",
            "218 block6d_project_conv False\n",
            "219 block6d_project_bn False\n",
            "220 block6d_drop False\n",
            "221 block6d_add False\n",
            "222 block7a_expand_conv False\n",
            "223 block7a_expand_bn False\n",
            "224 block7a_expand_activation False\n",
            "225 block7a_dwconv False\n",
            "226 block7a_bn False\n",
            "227 block7a_activation False\n",
            "228 block7a_se_squeeze True\n",
            "229 block7a_se_reshape True\n",
            "230 block7a_se_reduce True\n",
            "231 block7a_se_expand True\n",
            "232 block7a_se_excite True\n",
            "233 block7a_project_conv True\n",
            "234 block7a_project_bn True\n",
            "235 top_conv True\n",
            "236 top_bn True\n",
            "237 top_activation True\n"
          ]
        }
      ]
    },
    {
      "cell_type": "code",
      "source": [
        "print(len(model.trainable_variables))"
      ],
      "metadata": {
        "colab": {
          "base_uri": "https://localhost:8080/"
        },
        "id": "HE5QQZJjNhlq",
        "outputId": "b1e691f3-4f20-4542-cf57-346cab1e74c1"
      },
      "execution_count": 36,
      "outputs": [
        {
          "output_type": "stream",
          "name": "stdout",
          "text": [
            "12\n"
          ]
        }
      ]
    },
    {
      "cell_type": "code",
      "source": [
        "\n",
        "# Refit the model \n",
        "history_finetune = model.fit(train_data,\n",
        "                            epochs=6,\n",
        "                            validation_data=test_data,\n",
        "                            initial_epoch=history_101_food_classes_feature_extract.epoch[-1], # start from previous last epoch\n",
        "                            validation_steps=int(0.25 * len(test_data)),)\n",
        "     "
      ],
      "metadata": {
        "colab": {
          "base_uri": "https://localhost:8080/"
        },
        "id": "pQoCRSTQNqyt",
        "outputId": "9104699d-8203-4fa5-e426-9957a34a1de1"
      },
      "execution_count": 37,
      "outputs": [
        {
          "output_type": "stream",
          "name": "stdout",
          "text": [
            "Epoch 3/6\n",
            "2368/2368 [==============================] - 249s 100ms/step - loss: 1.1823 - accuracy: 0.6842 - val_loss: 0.9763 - val_accuracy: 0.7346\n",
            "Epoch 4/6\n",
            "2368/2368 [==============================] - 207s 87ms/step - loss: 0.8637 - accuracy: 0.7612 - val_loss: 0.9580 - val_accuracy: 0.7386\n",
            "Epoch 5/6\n",
            "2368/2368 [==============================] - 202s 84ms/step - loss: 0.6527 - accuracy: 0.8145 - val_loss: 0.9950 - val_accuracy: 0.7384\n",
            "Epoch 6/6\n",
            "2368/2368 [==============================] - 196s 82ms/step - loss: 0.4955 - accuracy: 0.8542 - val_loss: 1.0695 - val_accuracy: 0.7283\n"
          ]
        }
      ]
    },
    {
      "cell_type": "code",
      "source": [
        "model.evaluate(test_data)"
      ],
      "metadata": {
        "colab": {
          "base_uri": "https://localhost:8080/"
        },
        "id": "3mNLKLBPO1r0",
        "outputId": "d5499a49-bbe9-4edf-f168-6fc2e64cbae5"
      },
      "execution_count": 38,
      "outputs": [
        {
          "output_type": "stream",
          "name": "stdout",
          "text": [
            "790/790 [==============================] - 53s 67ms/step - loss: 1.0787 - accuracy: 0.7295\n"
          ]
        },
        {
          "output_type": "execute_result",
          "data": {
            "text/plain": [
              "[1.0786821842193604, 0.7295049428939819]"
            ]
          },
          "metadata": {},
          "execution_count": 38
        }
      ]
    },
    {
      "cell_type": "code",
      "source": [
        "from tensorflow.keras import layers\n",
        "\n",
        "# Create base model\n",
        "input_shape = (224, 224, 3)\n",
        "base_model = tf.keras.applications.EfficientNetV2B0(include_top=False)\n",
        "base_model.trainable = False # freeze base model layers\n",
        "\n",
        "# Create Functional model \n",
        "inputs = layers.Input(shape=input_shape, name=\"input_layer\")\n",
        "# Note: EfficientNetBX models have rescaling built-in but if your model didn't you could have a layer like below\n",
        "# x = layers.Rescaling(1./255)(x)\n",
        "x = base_model(inputs, training=False) # set base_model to inference mode only\n",
        "x = layers.GlobalAveragePooling2D(name=\"pooling_layer\")(x)\n",
        "x = layers.Dense(len(class_names))(x) # want one output neuron per class \n",
        "# Separate activation of output layer so we can output float32 activations\n",
        "outputs = layers.Activation(\"softmax\", dtype=tf.float32, name=\"softmax_float32\")(x) \n",
        "model = tf.keras.Model(inputs, outputs)\n",
        "\n",
        "# Compile the model\n",
        "model.compile(loss=\"sparse_categorical_crossentropy\", # Use sparse_categorical_crossentropy when labels are *not* one-hot\n",
        "              optimizer=tf.keras.optimizers.Adam(),\n",
        "              metrics=[\"accuracy\"])"
      ],
      "metadata": {
        "colab": {
          "base_uri": "https://localhost:8080/"
        },
        "id": "Wq7rGfi4Pyfm",
        "outputId": "eb9979fd-3436-4bb5-d64d-62a879e396cf"
      },
      "execution_count": 39,
      "outputs": [
        {
          "output_type": "stream",
          "name": "stdout",
          "text": [
            "Downloading data from https://storage.googleapis.com/keras-applications/efficientnetb7_notop.h5\n",
            "258076736/258076736 [==============================] - 9s 0us/step\n"
          ]
        }
      ]
    },
    {
      "cell_type": "code",
      "source": [
        "# Turn off all warnings except for errors\n",
        "tf.get_logger().setLevel('ERROR')\n",
        "\n",
        "# Fit the model with callbacks\n",
        "history_101_food_classes_feature_extract2 = model.fit(train_data, \n",
        "                                                     epochs=3,\n",
        "                                                     steps_per_epoch=len(train_data),\n",
        "                                                     validation_data=test_data,\n",
        "                                                     validation_steps=int(0.15 * len(test_data)),\n",
        "                                                     callbacks=[create_tensorboard_callback(\"training_logs\", \n",
        "                                                                                            \"efficientnetb0_101_classes_all_data_feature_extract\"),\n",
        "                                                                model_checkpoint])"
      ],
      "metadata": {
        "colab": {
          "base_uri": "https://localhost:8080/"
        },
        "id": "XihZ6Ji_QERB",
        "outputId": "966fc68f-bd05-4058-ea82-72b2fc1b745c"
      },
      "execution_count": 40,
      "outputs": [
        {
          "output_type": "stream",
          "name": "stdout",
          "text": [
            "Saving TensorBoard log files to: training_logs/efficientnetb0_101_classes_all_data_feature_extract/20230421-145151\n",
            "Epoch 1/3\n",
            "2368/2368 [==============================] - 515s 205ms/step - loss: 1.7940 - accuracy: 0.5532 - val_loss: 1.2713 - val_accuracy: 0.6507\n",
            "Epoch 2/3\n",
            "2368/2368 [==============================] - 484s 204ms/step - loss: 1.3177 - accuracy: 0.6571 - val_loss: 1.1588 - val_accuracy: 0.6854\n",
            "Epoch 3/3\n",
            "2368/2368 [==============================] - 481s 202ms/step - loss: 1.1629 - accuracy: 0.6964 - val_loss: 1.1081 - val_accuracy: 0.7002\n"
          ]
        }
      ]
    },
    {
      "cell_type": "code",
      "source": [
        "base_model.trainable = True\n",
        "\n",
        "for layer in base_model.layers[:-10]:\n",
        "    layer.trainable = False\n",
        "\n",
        "model.compile(loss=\"sparse_categorical_crossentropy\",\n",
        "              optimizer=tf.keras.optimizers.Adam(lr=0.0001), # lr is 10x lower than before for fine-tuning\n",
        "              metrics=[\"accuracy\"])"
      ],
      "metadata": {
        "colab": {
          "base_uri": "https://localhost:8080/"
        },
        "id": "9QysSYLyQNFJ",
        "outputId": "c910a676-9e4a-4b82-aa83-b2aa57356581"
      },
      "execution_count": 41,
      "outputs": [
        {
          "output_type": "stream",
          "name": "stderr",
          "text": [
            "WARNING:absl:`lr` is deprecated in Keras optimizer, please use `learning_rate` or use the legacy optimizer, e.g.,tf.keras.optimizers.legacy.Adam.\n"
          ]
        }
      ]
    },
    {
      "cell_type": "code",
      "source": [
        "# Refit the model \n",
        "history_finetune = model.fit(train_data,\n",
        "                            epochs=6,\n",
        "                            validation_data=test_data,\n",
        "                            initial_epoch=history_101_food_classes_feature_extract.epoch[-1], # start from previous last epoch\n",
        "                            validation_steps=int(0.25 * len(test_data)),)"
      ],
      "metadata": {
        "colab": {
          "base_uri": "https://localhost:8080/"
        },
        "id": "UOVrq64GQUEz",
        "outputId": "2982b50e-f2e4-413c-db77-bb6c2c6897c7"
      },
      "execution_count": 42,
      "outputs": [
        {
          "output_type": "stream",
          "name": "stdout",
          "text": [
            "Epoch 3/6\n",
            "2368/2368 [==============================] - 544s 217ms/step - loss: 1.2916 - accuracy: 0.6586 - val_loss: 1.0213 - val_accuracy: 0.7195\n",
            "Epoch 4/6\n",
            "2368/2368 [==============================] - 512s 215ms/step - loss: 0.8565 - accuracy: 0.7624 - val_loss: 1.0318 - val_accuracy: 0.7205\n",
            "Epoch 5/6\n",
            "2368/2368 [==============================] - 503s 212ms/step - loss: 0.5188 - accuracy: 0.8489 - val_loss: 1.0634 - val_accuracy: 0.7235\n",
            "Epoch 6/6\n",
            "2368/2368 [==============================] - 510s 214ms/step - loss: 0.2905 - accuracy: 0.9124 - val_loss: 1.1995 - val_accuracy: 0.7197\n"
          ]
        }
      ]
    },
    {
      "cell_type": "code",
      "source": [
        "model.evaluate(test_data)"
      ],
      "metadata": {
        "colab": {
          "base_uri": "https://localhost:8080/"
        },
        "id": "Cg1Pxt-oQXTy",
        "outputId": "d3c21716-b039-4a36-d4ec-a8cb7599d385"
      },
      "execution_count": 43,
      "outputs": [
        {
          "output_type": "stream",
          "name": "stdout",
          "text": [
            "790/790 [==============================] - 149s 188ms/step - loss: 1.2247 - accuracy: 0.7174\n"
          ]
        },
        {
          "output_type": "execute_result",
          "data": {
            "text/plain": [
              "[1.2246876955032349, 0.7173861265182495]"
            ]
          },
          "metadata": {},
          "execution_count": 43
        }
      ]
    },
    {
      "cell_type": "code",
      "source": [
        "from tensorflow.keras import layers\n",
        "\n",
        "# Create base model\n",
        "input_shape = (224, 224, 3)\n",
        "base_model = tf.keras.applications.EfficientNetV2B0(include_top=False)\n",
        "base_model.trainable = False # freeze base model layers\n",
        "\n",
        "# Create Functional model \n",
        "inputs = layers.Input(shape=input_shape, name=\"input_layer\")\n",
        "# Note: EfficientNetBX models have rescaling built-in but if your model didn't you could have a layer like below\n",
        "# x = layers.Rescaling(1./255)(x)\n",
        "x = base_model(inputs, training=False) # set base_model to inference mode only\n",
        "x = layers.GlobalAveragePooling2D(name=\"pooling_layer\")(x)\n",
        "x = layers.Dense(len(class_names))(x) # want one output neuron per class \n",
        "# Separate activation of output layer so we can output float32 activations\n",
        "outputs = layers.Activation(\"softmax\", dtype=tf.float32, name=\"softmax_float32\")(x) \n",
        "model = tf.keras.Model(inputs, outputs)\n",
        "\n",
        "# Compile the model\n",
        "model.compile(loss=\"sparse_categorical_crossentropy\", # Use sparse_categorical_crossentropy when labels are *not* one-hot\n",
        "              optimizer=tf.keras.optimizers.Adam(),\n",
        "              metrics=[\"accuracy\"])"
      ],
      "metadata": {
        "colab": {
          "base_uri": "https://localhost:8080/"
        },
        "id": "yY9vWQ4lQ3tk",
        "outputId": "6550e9ef-d148-45a8-ecd9-ef81300d7cf0"
      },
      "execution_count": 44,
      "outputs": [
        {
          "output_type": "stream",
          "name": "stdout",
          "text": [
            "Downloading data from https://storage.googleapis.com/tensorflow/keras-applications/efficientnet_v2/efficientnetv2-b0_notop.h5\n",
            "24274472/24274472 [==============================] - 1s 0us/step\n"
          ]
        }
      ]
    },
    {
      "cell_type": "code",
      "source": [
        "# Turn off all warnings except for errors\n",
        "tf.get_logger().setLevel('ERROR')\n",
        "\n",
        "# Fit the model with callbacks\n",
        "history_101_food_classes_feature_extract2 = model.fit(train_data, \n",
        "                                                     epochs=10,\n",
        "                                                     steps_per_epoch=len(train_data),\n",
        "                                                     validation_data=test_data,\n",
        "                                                     validation_steps=int(0.15 * len(test_data)),\n",
        "                                                     callbacks=[create_tensorboard_callback(\"training_logs\", \n",
        "                                                                                            \"efficientnet V2B0_101_classes_all_data_feature_extract\"),\n",
        "                                                                model_checkpoint])"
      ],
      "metadata": {
        "colab": {
          "base_uri": "https://localhost:8080/",
          "height": 468
        },
        "id": "6KOWFe_ojRmL",
        "outputId": "8a68c6a3-b6fa-4e9e-de82-85120fc0cf64"
      },
      "execution_count": 48,
      "outputs": [
        {
          "output_type": "stream",
          "name": "stdout",
          "text": [
            "Saving TensorBoard log files to: training_logs/efficientnet V2B0_101_classes_all_data_feature_extract/20230421-163848\n",
            "Epoch 1/10\n",
            "2368/2368 [==============================] - 201s 83ms/step - loss: 0.6493 - accuracy: 0.8291 - val_loss: 0.9928 - val_accuracy: 0.7370\n",
            "Epoch 2/10\n"
          ]
        },
        {
          "output_type": "error",
          "ename": "KeyboardInterrupt",
          "evalue": "ignored",
          "traceback": [
            "\u001b[0;31m---------------------------------------------------------------------------\u001b[0m",
            "\u001b[0;31mKeyboardInterrupt\u001b[0m                         Traceback (most recent call last)",
            "\u001b[0;32m<ipython-input-48-39b4d4f00bc2>\u001b[0m in \u001b[0;36m<cell line: 5>\u001b[0;34m()\u001b[0m\n\u001b[1;32m      3\u001b[0m \u001b[0;34m\u001b[0m\u001b[0m\n\u001b[1;32m      4\u001b[0m \u001b[0;31m# Fit the model with callbacks\u001b[0m\u001b[0;34m\u001b[0m\u001b[0;34m\u001b[0m\u001b[0m\n\u001b[0;32m----> 5\u001b[0;31m history_101_food_classes_feature_extract2 = model.fit(train_data, \n\u001b[0m\u001b[1;32m      6\u001b[0m                                                      \u001b[0mepochs\u001b[0m\u001b[0;34m=\u001b[0m\u001b[0;36m10\u001b[0m\u001b[0;34m,\u001b[0m\u001b[0;34m\u001b[0m\u001b[0;34m\u001b[0m\u001b[0m\n\u001b[1;32m      7\u001b[0m                                                      \u001b[0msteps_per_epoch\u001b[0m\u001b[0;34m=\u001b[0m\u001b[0mlen\u001b[0m\u001b[0;34m(\u001b[0m\u001b[0mtrain_data\u001b[0m\u001b[0;34m)\u001b[0m\u001b[0;34m,\u001b[0m\u001b[0;34m\u001b[0m\u001b[0;34m\u001b[0m\u001b[0m\n",
            "\u001b[0;32m/usr/local/lib/python3.9/dist-packages/keras/utils/traceback_utils.py\u001b[0m in \u001b[0;36merror_handler\u001b[0;34m(*args, **kwargs)\u001b[0m\n\u001b[1;32m     63\u001b[0m         \u001b[0mfiltered_tb\u001b[0m \u001b[0;34m=\u001b[0m \u001b[0;32mNone\u001b[0m\u001b[0;34m\u001b[0m\u001b[0;34m\u001b[0m\u001b[0m\n\u001b[1;32m     64\u001b[0m         \u001b[0;32mtry\u001b[0m\u001b[0;34m:\u001b[0m\u001b[0;34m\u001b[0m\u001b[0;34m\u001b[0m\u001b[0m\n\u001b[0;32m---> 65\u001b[0;31m             \u001b[0;32mreturn\u001b[0m \u001b[0mfn\u001b[0m\u001b[0;34m(\u001b[0m\u001b[0;34m*\u001b[0m\u001b[0margs\u001b[0m\u001b[0;34m,\u001b[0m \u001b[0;34m**\u001b[0m\u001b[0mkwargs\u001b[0m\u001b[0;34m)\u001b[0m\u001b[0;34m\u001b[0m\u001b[0;34m\u001b[0m\u001b[0m\n\u001b[0m\u001b[1;32m     66\u001b[0m         \u001b[0;32mexcept\u001b[0m \u001b[0mException\u001b[0m \u001b[0;32mas\u001b[0m \u001b[0me\u001b[0m\u001b[0;34m:\u001b[0m\u001b[0;34m\u001b[0m\u001b[0;34m\u001b[0m\u001b[0m\n\u001b[1;32m     67\u001b[0m             \u001b[0mfiltered_tb\u001b[0m \u001b[0;34m=\u001b[0m \u001b[0m_process_traceback_frames\u001b[0m\u001b[0;34m(\u001b[0m\u001b[0me\u001b[0m\u001b[0;34m.\u001b[0m\u001b[0m__traceback__\u001b[0m\u001b[0;34m)\u001b[0m\u001b[0;34m\u001b[0m\u001b[0;34m\u001b[0m\u001b[0m\n",
            "\u001b[0;32m/usr/local/lib/python3.9/dist-packages/keras/engine/training.py\u001b[0m in \u001b[0;36mfit\u001b[0;34m(self, x, y, batch_size, epochs, verbose, callbacks, validation_split, validation_data, shuffle, class_weight, sample_weight, initial_epoch, steps_per_epoch, validation_steps, validation_batch_size, validation_freq, max_queue_size, workers, use_multiprocessing)\u001b[0m\n\u001b[1;32m   1683\u001b[0m                         ):\n\u001b[1;32m   1684\u001b[0m                             \u001b[0mcallbacks\u001b[0m\u001b[0;34m.\u001b[0m\u001b[0mon_train_batch_begin\u001b[0m\u001b[0;34m(\u001b[0m\u001b[0mstep\u001b[0m\u001b[0;34m)\u001b[0m\u001b[0;34m\u001b[0m\u001b[0;34m\u001b[0m\u001b[0m\n\u001b[0;32m-> 1685\u001b[0;31m                             \u001b[0mtmp_logs\u001b[0m \u001b[0;34m=\u001b[0m \u001b[0mself\u001b[0m\u001b[0;34m.\u001b[0m\u001b[0mtrain_function\u001b[0m\u001b[0;34m(\u001b[0m\u001b[0miterator\u001b[0m\u001b[0;34m)\u001b[0m\u001b[0;34m\u001b[0m\u001b[0;34m\u001b[0m\u001b[0m\n\u001b[0m\u001b[1;32m   1686\u001b[0m                             \u001b[0;32mif\u001b[0m \u001b[0mdata_handler\u001b[0m\u001b[0;34m.\u001b[0m\u001b[0mshould_sync\u001b[0m\u001b[0;34m:\u001b[0m\u001b[0;34m\u001b[0m\u001b[0;34m\u001b[0m\u001b[0m\n\u001b[1;32m   1687\u001b[0m                                 \u001b[0mcontext\u001b[0m\u001b[0;34m.\u001b[0m\u001b[0masync_wait\u001b[0m\u001b[0;34m(\u001b[0m\u001b[0;34m)\u001b[0m\u001b[0;34m\u001b[0m\u001b[0;34m\u001b[0m\u001b[0m\n",
            "\u001b[0;32m/usr/local/lib/python3.9/dist-packages/tensorflow/python/util/traceback_utils.py\u001b[0m in \u001b[0;36merror_handler\u001b[0;34m(*args, **kwargs)\u001b[0m\n\u001b[1;32m    148\u001b[0m     \u001b[0mfiltered_tb\u001b[0m \u001b[0;34m=\u001b[0m \u001b[0;32mNone\u001b[0m\u001b[0;34m\u001b[0m\u001b[0;34m\u001b[0m\u001b[0m\n\u001b[1;32m    149\u001b[0m     \u001b[0;32mtry\u001b[0m\u001b[0;34m:\u001b[0m\u001b[0;34m\u001b[0m\u001b[0;34m\u001b[0m\u001b[0m\n\u001b[0;32m--> 150\u001b[0;31m       \u001b[0;32mreturn\u001b[0m \u001b[0mfn\u001b[0m\u001b[0;34m(\u001b[0m\u001b[0;34m*\u001b[0m\u001b[0margs\u001b[0m\u001b[0;34m,\u001b[0m \u001b[0;34m**\u001b[0m\u001b[0mkwargs\u001b[0m\u001b[0;34m)\u001b[0m\u001b[0;34m\u001b[0m\u001b[0;34m\u001b[0m\u001b[0m\n\u001b[0m\u001b[1;32m    151\u001b[0m     \u001b[0;32mexcept\u001b[0m \u001b[0mException\u001b[0m \u001b[0;32mas\u001b[0m \u001b[0me\u001b[0m\u001b[0;34m:\u001b[0m\u001b[0;34m\u001b[0m\u001b[0;34m\u001b[0m\u001b[0m\n\u001b[1;32m    152\u001b[0m       \u001b[0mfiltered_tb\u001b[0m \u001b[0;34m=\u001b[0m \u001b[0m_process_traceback_frames\u001b[0m\u001b[0;34m(\u001b[0m\u001b[0me\u001b[0m\u001b[0;34m.\u001b[0m\u001b[0m__traceback__\u001b[0m\u001b[0;34m)\u001b[0m\u001b[0;34m\u001b[0m\u001b[0;34m\u001b[0m\u001b[0m\n",
            "\u001b[0;32m/usr/local/lib/python3.9/dist-packages/tensorflow/python/eager/polymorphic_function/polymorphic_function.py\u001b[0m in \u001b[0;36m__call__\u001b[0;34m(self, *args, **kwds)\u001b[0m\n\u001b[1;32m    892\u001b[0m \u001b[0;34m\u001b[0m\u001b[0m\n\u001b[1;32m    893\u001b[0m       \u001b[0;32mwith\u001b[0m \u001b[0mOptionalXlaContext\u001b[0m\u001b[0;34m(\u001b[0m\u001b[0mself\u001b[0m\u001b[0;34m.\u001b[0m\u001b[0m_jit_compile\u001b[0m\u001b[0;34m)\u001b[0m\u001b[0;34m:\u001b[0m\u001b[0;34m\u001b[0m\u001b[0;34m\u001b[0m\u001b[0m\n\u001b[0;32m--> 894\u001b[0;31m         \u001b[0mresult\u001b[0m \u001b[0;34m=\u001b[0m \u001b[0mself\u001b[0m\u001b[0;34m.\u001b[0m\u001b[0m_call\u001b[0m\u001b[0;34m(\u001b[0m\u001b[0;34m*\u001b[0m\u001b[0margs\u001b[0m\u001b[0;34m,\u001b[0m \u001b[0;34m**\u001b[0m\u001b[0mkwds\u001b[0m\u001b[0;34m)\u001b[0m\u001b[0;34m\u001b[0m\u001b[0;34m\u001b[0m\u001b[0m\n\u001b[0m\u001b[1;32m    895\u001b[0m \u001b[0;34m\u001b[0m\u001b[0m\n\u001b[1;32m    896\u001b[0m       \u001b[0mnew_tracing_count\u001b[0m \u001b[0;34m=\u001b[0m \u001b[0mself\u001b[0m\u001b[0;34m.\u001b[0m\u001b[0mexperimental_get_tracing_count\u001b[0m\u001b[0;34m(\u001b[0m\u001b[0;34m)\u001b[0m\u001b[0;34m\u001b[0m\u001b[0;34m\u001b[0m\u001b[0m\n",
            "\u001b[0;32m/usr/local/lib/python3.9/dist-packages/tensorflow/python/eager/polymorphic_function/polymorphic_function.py\u001b[0m in \u001b[0;36m_call\u001b[0;34m(self, *args, **kwds)\u001b[0m\n\u001b[1;32m    924\u001b[0m       \u001b[0;31m# In this case we have created variables on the first call, so we run the\u001b[0m\u001b[0;34m\u001b[0m\u001b[0;34m\u001b[0m\u001b[0m\n\u001b[1;32m    925\u001b[0m       \u001b[0;31m# defunned version which is guaranteed to never create variables.\u001b[0m\u001b[0;34m\u001b[0m\u001b[0;34m\u001b[0m\u001b[0m\n\u001b[0;32m--> 926\u001b[0;31m       \u001b[0;32mreturn\u001b[0m \u001b[0mself\u001b[0m\u001b[0;34m.\u001b[0m\u001b[0m_no_variable_creation_fn\u001b[0m\u001b[0;34m(\u001b[0m\u001b[0;34m*\u001b[0m\u001b[0margs\u001b[0m\u001b[0;34m,\u001b[0m \u001b[0;34m**\u001b[0m\u001b[0mkwds\u001b[0m\u001b[0;34m)\u001b[0m  \u001b[0;31m# pylint: disable=not-callable\u001b[0m\u001b[0;34m\u001b[0m\u001b[0;34m\u001b[0m\u001b[0m\n\u001b[0m\u001b[1;32m    927\u001b[0m     \u001b[0;32melif\u001b[0m \u001b[0mself\u001b[0m\u001b[0;34m.\u001b[0m\u001b[0m_variable_creation_fn\u001b[0m \u001b[0;32mis\u001b[0m \u001b[0;32mnot\u001b[0m \u001b[0;32mNone\u001b[0m\u001b[0;34m:\u001b[0m\u001b[0;34m\u001b[0m\u001b[0;34m\u001b[0m\u001b[0m\n\u001b[1;32m    928\u001b[0m       \u001b[0;31m# Release the lock early so that multiple threads can perform the call\u001b[0m\u001b[0;34m\u001b[0m\u001b[0;34m\u001b[0m\u001b[0m\n",
            "\u001b[0;32m/usr/local/lib/python3.9/dist-packages/tensorflow/python/eager/polymorphic_function/tracing_compiler.py\u001b[0m in \u001b[0;36m__call__\u001b[0;34m(self, *args, **kwargs)\u001b[0m\n\u001b[1;32m    141\u001b[0m       (concrete_function,\n\u001b[1;32m    142\u001b[0m        filtered_flat_args) = self._maybe_define_function(args, kwargs)\n\u001b[0;32m--> 143\u001b[0;31m     return concrete_function._call_flat(\n\u001b[0m\u001b[1;32m    144\u001b[0m         filtered_flat_args, captured_inputs=concrete_function.captured_inputs)  # pylint: disable=protected-access\n\u001b[1;32m    145\u001b[0m \u001b[0;34m\u001b[0m\u001b[0m\n",
            "\u001b[0;32m/usr/local/lib/python3.9/dist-packages/tensorflow/python/eager/polymorphic_function/monomorphic_function.py\u001b[0m in \u001b[0;36m_call_flat\u001b[0;34m(self, args, captured_inputs, cancellation_manager)\u001b[0m\n\u001b[1;32m   1755\u001b[0m         and executing_eagerly):\n\u001b[1;32m   1756\u001b[0m       \u001b[0;31m# No tape is watching; skip to running the function.\u001b[0m\u001b[0;34m\u001b[0m\u001b[0;34m\u001b[0m\u001b[0m\n\u001b[0;32m-> 1757\u001b[0;31m       return self._build_call_outputs(self._inference_function.call(\n\u001b[0m\u001b[1;32m   1758\u001b[0m           ctx, args, cancellation_manager=cancellation_manager))\n\u001b[1;32m   1759\u001b[0m     forward_backward = self._select_forward_and_backward_functions(\n",
            "\u001b[0;32m/usr/local/lib/python3.9/dist-packages/tensorflow/python/eager/polymorphic_function/monomorphic_function.py\u001b[0m in \u001b[0;36mcall\u001b[0;34m(self, ctx, args, cancellation_manager)\u001b[0m\n\u001b[1;32m    379\u001b[0m       \u001b[0;32mwith\u001b[0m \u001b[0m_InterpolateFunctionError\u001b[0m\u001b[0;34m(\u001b[0m\u001b[0mself\u001b[0m\u001b[0;34m)\u001b[0m\u001b[0;34m:\u001b[0m\u001b[0;34m\u001b[0m\u001b[0;34m\u001b[0m\u001b[0m\n\u001b[1;32m    380\u001b[0m         \u001b[0;32mif\u001b[0m \u001b[0mcancellation_manager\u001b[0m \u001b[0;32mis\u001b[0m \u001b[0;32mNone\u001b[0m\u001b[0;34m:\u001b[0m\u001b[0;34m\u001b[0m\u001b[0;34m\u001b[0m\u001b[0m\n\u001b[0;32m--> 381\u001b[0;31m           outputs = execute.execute(\n\u001b[0m\u001b[1;32m    382\u001b[0m               \u001b[0mstr\u001b[0m\u001b[0;34m(\u001b[0m\u001b[0mself\u001b[0m\u001b[0;34m.\u001b[0m\u001b[0msignature\u001b[0m\u001b[0;34m.\u001b[0m\u001b[0mname\u001b[0m\u001b[0;34m)\u001b[0m\u001b[0;34m,\u001b[0m\u001b[0;34m\u001b[0m\u001b[0;34m\u001b[0m\u001b[0m\n\u001b[1;32m    383\u001b[0m               \u001b[0mnum_outputs\u001b[0m\u001b[0;34m=\u001b[0m\u001b[0mself\u001b[0m\u001b[0;34m.\u001b[0m\u001b[0m_num_outputs\u001b[0m\u001b[0;34m,\u001b[0m\u001b[0;34m\u001b[0m\u001b[0;34m\u001b[0m\u001b[0m\n",
            "\u001b[0;32m/usr/local/lib/python3.9/dist-packages/tensorflow/python/eager/execute.py\u001b[0m in \u001b[0;36mquick_execute\u001b[0;34m(op_name, num_outputs, inputs, attrs, ctx, name)\u001b[0m\n\u001b[1;32m     50\u001b[0m   \u001b[0;32mtry\u001b[0m\u001b[0;34m:\u001b[0m\u001b[0;34m\u001b[0m\u001b[0;34m\u001b[0m\u001b[0m\n\u001b[1;32m     51\u001b[0m     \u001b[0mctx\u001b[0m\u001b[0;34m.\u001b[0m\u001b[0mensure_initialized\u001b[0m\u001b[0;34m(\u001b[0m\u001b[0;34m)\u001b[0m\u001b[0;34m\u001b[0m\u001b[0;34m\u001b[0m\u001b[0m\n\u001b[0;32m---> 52\u001b[0;31m     tensors = pywrap_tfe.TFE_Py_Execute(ctx._handle, device_name, op_name,\n\u001b[0m\u001b[1;32m     53\u001b[0m                                         inputs, attrs, num_outputs)\n\u001b[1;32m     54\u001b[0m   \u001b[0;32mexcept\u001b[0m \u001b[0mcore\u001b[0m\u001b[0;34m.\u001b[0m\u001b[0m_NotOkStatusException\u001b[0m \u001b[0;32mas\u001b[0m \u001b[0me\u001b[0m\u001b[0;34m:\u001b[0m\u001b[0;34m\u001b[0m\u001b[0;34m\u001b[0m\u001b[0m\n",
            "\u001b[0;31mKeyboardInterrupt\u001b[0m: "
          ]
        }
      ]
    },
    {
      "cell_type": "code",
      "source": [
        "model.evaluate(test_data)"
      ],
      "metadata": {
        "colab": {
          "base_uri": "https://localhost:8080/"
        },
        "id": "-pRrnZ7ljeZc",
        "outputId": "f481e6f8-094b-42f7-b9ed-1eac1d62277f"
      },
      "execution_count": 47,
      "outputs": [
        {
          "output_type": "stream",
          "name": "stdout",
          "text": [
            "790/790 [==============================] - 52s 66ms/step - loss: 0.9779 - accuracy: 0.7358\n"
          ]
        },
        {
          "output_type": "execute_result",
          "data": {
            "text/plain": [
              "[0.977944016456604, 0.7358415722846985]"
            ]
          },
          "metadata": {},
          "execution_count": 47
        }
      ]
    },
    {
      "cell_type": "code",
      "source": [
        "from tensorflow.keras import layers\n",
        "\n",
        "# Create base model\n",
        "input_shape = (224, 224, 3)\n",
        "base_model = tf.keras.applications.VGG16(include_top=False)\n",
        "base_model.trainable = False # freeze base model layers\n",
        "\n",
        "# Create Functional model \n",
        "inputs = layers.Input(shape=input_shape, name=\"input_layer\")\n",
        "# Note: EfficientNetBX models have rescaling built-in but if your model didn't you could have a layer like below\n",
        "# x = layers.Rescaling(1./255)(x)\n",
        "x = base_model(inputs, training=False) # set base_model to inference mode only\n",
        "x = layers.GlobalAveragePooling2D(name=\"pooling_layer\")(x)\n",
        "x = layers.Dense(len(class_names))(x) # want one output neuron per class \n",
        "# Separate activation of output layer so we can output float32 activations\n",
        "outputs = layers.Activation(\"softmax\", dtype=tf.float32, name=\"softmax_float32\")(x) \n",
        "model = tf.keras.Model(inputs, outputs)\n",
        "\n",
        "# Compile the model\n",
        "model.compile(loss=\"sparse_categorical_crossentropy\", # Use sparse_categorical_crossentropy when labels are *not* one-hot\n",
        "              optimizer=tf.keras.optimizers.Adam(),\n",
        "              metrics=[\"accuracy\"])"
      ],
      "metadata": {
        "id": "1zrE44tmjjiT"
      },
      "execution_count": 26,
      "outputs": []
    },
    {
      "cell_type": "code",
      "source": [
        "# Turn off all warnings except for errors\n",
        "tf.get_logger().setLevel('ERROR')\n",
        "\n",
        "# Fit the model with callbacks\n",
        "history_101_food_classes_feature_extract3 = model.fit(train_data, \n",
        "                                                     epochs=10,\n",
        "                                                     steps_per_epoch=len(train_data),\n",
        "                                                     validation_data=test_data,\n",
        "                                                     validation_steps=int(0.15 * len(test_data)),\n",
        "                                                     callbacks=[create_tensorboard_callback(\"training_logs\", \n",
        "                                                                                            \"efficientnet V2B0_101_classes_all_data_feature_extract\"),\n",
        "                                                                model_checkpoint])"
      ],
      "metadata": {
        "colab": {
          "base_uri": "https://localhost:8080/"
        },
        "id": "L_v2YqiJnQB0",
        "outputId": "8e35a324-e748-45fc-a731-21adbd25c5a8"
      },
      "execution_count": null,
      "outputs": [
        {
          "output_type": "stream",
          "name": "stdout",
          "text": [
            "Saving TensorBoard log files to: training_logs/efficientnet V2B0_101_classes_all_data_feature_extract/20230421-165914\n",
            "Epoch 1/10\n"
          ]
        }
      ]
    },
    {
      "cell_type": "code",
      "source": [],
      "metadata": {
        "id": "NYIzfXCHnUwI"
      },
      "execution_count": null,
      "outputs": []
    }
  ]
}